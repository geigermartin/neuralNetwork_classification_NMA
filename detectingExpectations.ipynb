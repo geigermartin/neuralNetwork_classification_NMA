{
  "cells": [
    {
      "cell_type": "markdown",
      "metadata": {
        "id": "b-ES4Obv7szu"
      },
      "source": [
        "# Set up environment and import packages"
      ]
    },
    {
      "cell_type": "code",
      "execution_count": 2,
      "metadata": {
        "colab": {
          "base_uri": "https://localhost:8080/"
        },
        "id": "wZnkIZSC7szw",
        "outputId": "58719924-8535-4666-e945-b0c68410f425"
      },
      "outputs": [
        {
          "name": "stdout",
          "output_type": "stream",
          "text": [
            "\u001b[?25l     \u001b[90m━━━━━━━━━━━━━━━━━━━━━━━━━━━━━━━━━━━━━━━━\u001b[0m \u001b[32m0.0/2.1 MB\u001b[0m \u001b[31m?\u001b[0m eta \u001b[36m-:--:--\u001b[0m\r\u001b[2K     \u001b[91m━\u001b[0m\u001b[91m╸\u001b[0m\u001b[90m━━━━━━━━━━━━━━━━━━━━━━━━━━━━━━━━━━━━━━\u001b[0m \u001b[32m0.1/2.1 MB\u001b[0m \u001b[31m2.6 MB/s\u001b[0m eta \u001b[36m0:00:01\u001b[0m\r\u001b[2K     \u001b[91m━━━━━━━━\u001b[0m\u001b[90m╺\u001b[0m\u001b[90m━━━━━━━━━━━━━━━━━━━━━━━━━━━━━━━\u001b[0m \u001b[32m0.4/2.1 MB\u001b[0m \u001b[31m6.3 MB/s\u001b[0m eta \u001b[36m0:00:01\u001b[0m\r\u001b[2K     \u001b[91m━━━━━━━━━━━━━━\u001b[0m\u001b[91m╸\u001b[0m\u001b[90m━━━━━━━━━━━━━━━━━━━━━━━━━\u001b[0m \u001b[32m0.8/2.1 MB\u001b[0m \u001b[31m7.5 MB/s\u001b[0m eta \u001b[36m0:00:01\u001b[0m\r\u001b[2K     \u001b[91m━━━━━━━━━━━━━━━━━━━━━━\u001b[0m\u001b[91m╸\u001b[0m\u001b[90m━━━━━━━━━━━━━━━━━\u001b[0m \u001b[32m1.2/2.1 MB\u001b[0m \u001b[31m8.6 MB/s\u001b[0m eta \u001b[36m0:00:01\u001b[0m\r\u001b[2K     \u001b[91m━━━━━━━━━━━━━━━━━━━━━━━━━━━━━━━\u001b[0m\u001b[90m╺\u001b[0m\u001b[90m━━━━━━━━\u001b[0m \u001b[32m1.6/2.1 MB\u001b[0m \u001b[31m9.4 MB/s\u001b[0m eta \u001b[36m0:00:01\u001b[0m\r\u001b[2K     \u001b[91m━━━━━━━━━━━━━━━━━━━━━━━━━━━━━━━━━━━━━━━\u001b[0m\u001b[91m╸\u001b[0m \u001b[32m2.1/2.1 MB\u001b[0m \u001b[31m10.2 MB/s\u001b[0m eta \u001b[36m0:00:01\u001b[0m\r\u001b[2K     \u001b[90m━━━━━━━━━━━━━━━━━━━━━━━━━━━━━━━━━━━━━━━━\u001b[0m \u001b[32m2.1/2.1 MB\u001b[0m \u001b[31m9.3 MB/s\u001b[0m eta \u001b[36m0:00:00\u001b[0m\n",
            "\u001b[?25h  Preparing metadata (setup.py) ... \u001b[?25l\u001b[?25hdone\n",
            "\u001b[2K     \u001b[90m━━━━━━━━━━━━━━━━━━━━━━━━━━━━━━━━━━━━━━━━\u001b[0m \u001b[32m3.0/3.0 MB\u001b[0m \u001b[31m25.9 MB/s\u001b[0m eta \u001b[36m0:00:00\u001b[0m\n",
            "\u001b[2K     \u001b[90m━━━━━━━━━━━━━━━━━━━━━━━━━━━━━━━━━━━━━━━━\u001b[0m \u001b[32m54.5/54.5 kB\u001b[0m \u001b[31m6.3 MB/s\u001b[0m eta \u001b[36m0:00:00\u001b[0m\n",
            "\u001b[2K     \u001b[90m━━━━━━━━━━━━━━━━━━━━━━━━━━━━━━━━━━━━━━\u001b[0m \u001b[32m137.9/137.9 kB\u001b[0m \u001b[31m14.9 MB/s\u001b[0m eta \u001b[36m0:00:00\u001b[0m\n",
            "\u001b[2K     \u001b[90m━━━━━━━━━━━━━━━━━━━━━━━━━━━━━━━━━━━━━━━━\u001b[0m \u001b[32m52.7/52.7 MB\u001b[0m \u001b[31m25.0 MB/s\u001b[0m eta \u001b[36m0:00:00\u001b[0m\n",
            "\u001b[?25h  Installing build dependencies ... \u001b[?25l\u001b[?25hdone\n",
            "  Getting requirements to build wheel ... \u001b[?25l\u001b[?25hdone\n",
            "  Preparing metadata (pyproject.toml) ... \u001b[?25l\u001b[?25hdone\n",
            "\u001b[2K     \u001b[90m━━━━━━━━━━━━━━━━━━━━━━━━━━━━━━━━━━━━━━━━\u001b[0m \u001b[32m3.4/3.4 MB\u001b[0m \u001b[31m65.7 MB/s\u001b[0m eta \u001b[36m0:00:00\u001b[0m\n",
            "\u001b[?25h  Preparing metadata (setup.py) ... \u001b[?25l\u001b[?25hdone\n",
            "\u001b[2K     \u001b[90m━━━━━━━━━━━━━━━━━━━━━━━━━━━━━━━━━━━━━━━━\u001b[0m \u001b[32m1.1/1.1 MB\u001b[0m \u001b[31m57.3 MB/s\u001b[0m eta \u001b[36m0:00:00\u001b[0m\n",
            "\u001b[?25h  Installing build dependencies ... \u001b[?25l\u001b[?25hdone\n",
            "  Getting requirements to build wheel ... \u001b[?25l\u001b[?25hdone\n",
            "  Preparing metadata (pyproject.toml) ... \u001b[?25l\u001b[?25hdone\n",
            "\u001b[2K     \u001b[90m━━━━━━━━━━━━━━━━━━━━━━━━━━━━━━━━━━━━━\u001b[0m \u001b[32m130.3/130.3 kB\u001b[0m \u001b[31m794.3 kB/s\u001b[0m eta \u001b[36m0:00:00\u001b[0m\n",
            "\u001b[2K     \u001b[90m━━━━━━━━━━━━━━━━━━━━━━━━━━━━━━━━━━━━━━\u001b[0m \u001b[32m133.4/133.4 kB\u001b[0m \u001b[31m13.1 MB/s\u001b[0m eta \u001b[36m0:00:00\u001b[0m\n",
            "\u001b[2K     \u001b[90m━━━━━━━━━━━━━━━━━━━━━━━━━━━━━━━━━━━━━━━━\u001b[0m \u001b[32m7.7/7.7 MB\u001b[0m \u001b[31m93.7 MB/s\u001b[0m eta \u001b[36m0:00:00\u001b[0m\n",
            "\u001b[2K     \u001b[90m━━━━━━━━━━━━━━━━━━━━━━━━━━━━━━━━━━━━━━━━\u001b[0m \u001b[32m73.4/73.4 kB\u001b[0m \u001b[31m7.1 MB/s\u001b[0m eta \u001b[36m0:00:00\u001b[0m\n",
            "\u001b[2K     \u001b[90m━━━━━━━━━━━━━━━━━━━━━━━━━━━━━━━━━━━━━━\u001b[0m \u001b[32m485.6/485.6 kB\u001b[0m \u001b[31m45.5 MB/s\u001b[0m eta \u001b[36m0:00:00\u001b[0m\n",
            "\u001b[2K   \u001b[90m━━━━━━━━━━━━━━━━━━━━━━━━━━━━━━━━━━━━━━━━\u001b[0m \u001b[32m327.8/327.8 kB\u001b[0m \u001b[31m33.5 MB/s\u001b[0m eta \u001b[36m0:00:00\u001b[0m\n",
            "\u001b[2K   \u001b[90m━━━━━━━━━━━━━━━━━━━━━━━━━━━━━━━━━━━━━━━━\u001b[0m \u001b[32m132.3/132.3 kB\u001b[0m \u001b[31m15.8 MB/s\u001b[0m eta \u001b[36m0:00:00\u001b[0m\n",
            "\u001b[2K   \u001b[90m━━━━━━━━━━━━━━━━━━━━━━━━━━━━━━━━━━━━━━━━\u001b[0m \u001b[32m84.3/84.3 kB\u001b[0m \u001b[31m10.8 MB/s\u001b[0m eta \u001b[36m0:00:00\u001b[0m\n",
            "\u001b[2K   \u001b[90m━━━━━━━━━━━━━━━━━━━━━━━━━━━━━━━━━━━━━━━━\u001b[0m \u001b[32m49.4/49.4 kB\u001b[0m \u001b[31m5.7 MB/s\u001b[0m eta \u001b[36m0:00:00\u001b[0m\n",
            "\u001b[2K   \u001b[90m━━━━━━━━━━━━━━━━━━━━━━━━━━━━━━━━━━━━━━━━\u001b[0m \u001b[32m112.2/112.2 kB\u001b[0m \u001b[31m13.5 MB/s\u001b[0m eta \u001b[36m0:00:00\u001b[0m\n",
            "\u001b[?25h  Building wheel for allensdk (setup.py) ... \u001b[?25l\u001b[?25hdone\n",
            "  Building wheel for aiohttp (pyproject.toml) ... \u001b[?25l\u001b[?25hdone\n",
            "  Building wheel for glymur (setup.py) ... \u001b[?25l\u001b[?25hdone\n",
            "  Building wheel for argschema (pyproject.toml) ... \u001b[?25l\u001b[?25hdone\n",
            "\u001b[33mWARNING: Running pip as the 'root' user can result in broken permissions and conflicting behaviour with the system package manager. It is recommended to use a virtual environment instead: https://pip.pypa.io/warnings/venv\u001b[0m\u001b[33m\n",
            "\u001b[2K     \u001b[90m━━━━━━━━━━━━━━━━━━━━━━━━━━━━━━━━━━━━━━━━\u001b[0m \u001b[32m40.7/40.7 kB\u001b[0m \u001b[31m1.1 MB/s\u001b[0m eta \u001b[36m0:00:00\u001b[0m\n",
            "\u001b[?25h  Preparing metadata (setup.py) ... \u001b[?25l\u001b[?25hdone\n",
            "\u001b[2K   \u001b[90m━━━━━━━━━━━━━━━━━━━━━━━━━━━━━━━━━━━━━━━━\u001b[0m \u001b[32m58.3/58.3 kB\u001b[0m \u001b[31m3.9 MB/s\u001b[0m eta \u001b[36m0:00:00\u001b[0m\n",
            "\u001b[2K   \u001b[90m━━━━━━━━━━━━━━━━━━━━━━━━━━━━━━━━━━━━━━━━\u001b[0m \u001b[32m62.6/62.6 kB\u001b[0m \u001b[31m7.3 MB/s\u001b[0m eta \u001b[36m0:00:00\u001b[0m\n",
            "\u001b[?25h  Building wheel for brain_observatory_utilities (setup.py) ... \u001b[?25l\u001b[?25hdone\n",
            "\u001b[33mWARNING: Running pip as the 'root' user can result in broken permissions and conflicting behaviour with the system package manager. It is recommended to use a virtual environment instead: https://pip.pypa.io/warnings/venv\u001b[0m\u001b[33m\n",
            "\u001b[0m\u001b[33mWARNING: Running pip as the 'root' user can result in broken permissions and conflicting behaviour with the system package manager. It is recommended to use a virtual environment instead: https://pip.pypa.io/warnings/venv\u001b[0m\u001b[33m\n",
            "\u001b[0m\u001b[33mWARNING: Running pip as the 'root' user can result in broken permissions and conflicting behaviour with the system package manager. It is recommended to use a virtual environment instead: https://pip.pypa.io/warnings/venv\u001b[0m\u001b[33m\n",
            "\u001b[0m"
          ]
        }
      ],
      "source": [
        "# @title Install packages\n",
        "!pip install pip --upgrade --quiet\n",
        "!pip install git+https://github.com/slinderman/AllenSDK@master --quiet\n",
        "!pip install brain_observatory_utilities --quiet\n",
        "!pip install pandas --quiet\n",
        "!pip install seaborn --quiet"
      ]
    },
    {
      "cell_type": "markdown",
      "metadata": {
        "id": "1DLEhIAw7szw"
      },
      "source": [
        "#### Import packages"
      ]
    },
    {
      "cell_type": "code",
      "execution_count": 3,
      "metadata": {
        "id": "ss8P7-Hr7szw"
      },
      "outputs": [],
      "source": [
        "import os\n",
        "import numpy as np\n",
        "import pandas as pd\n",
        "from tqdm import tqdm\n",
        "import seaborn as sns\n",
        "import matplotlib.pyplot as plt\n",
        "\n",
        "from sklearn import svm\n",
        "from sklearn.model_selection import train_test_split\n",
        "from sklearn.metrics import confusion_matrix, accuracy_score\n",
        "from sklearn.manifold import TSNE\n",
        "\n",
        "import brain_observatory_utilities.datasets.optical_physiology.data_formatting as ophys_formatting\n",
        "import brain_observatory_utilities.utilities.general_utilities as utilities\n",
        "\n",
        "from allensdk.brain_observatory.behavior.behavior_project_cache import VisualBehaviorOphysProjectCache\n",
        "\n",
        "from tqdm import tqdm\n",
        "import brain_observatory_utilities.datasets.optical_physiology.data_formatting as ophys_formatting\n",
        "\n",
        "import torch\n",
        "from torch import nn\n",
        "from torch import optim\n",
        "\n",
        "pd.set_option('display.max_columns', 500)"
      ]
    },
    {
      "cell_type": "markdown",
      "metadata": {
        "id": "DHCmlWFP7szw"
      },
      "source": [
        "# Load data\n",
        "The AllenSDK provides functionality for downloading tables that describe all sessions and experiments (individual imaging planes) in the Visual Behavior 2P dataset. We first download the data cache:"
      ]
    },
    {
      "cell_type": "code",
      "execution_count": 4,
      "metadata": {
        "colab": {
          "base_uri": "https://localhost:8080/"
        },
        "id": "Wgkm4iYV7szw",
        "outputId": "11fa78a1-b986-4caf-f2ac-d8cf18f2b1a9"
      },
      "outputs": [
        {
          "name": "stdout",
          "output_type": "stream",
          "text": [
            "Mounted at /content/drive\n"
          ]
        }
      ],
      "source": [
        "from google.colab import drive\n",
        "drive.mount('/content/drive',force_remount=True)\n",
        "data_storage_directory = \"/content/drive/MyDrive/allen_cache\" # Note: this path must exist on your local drive\n",
        "cache = VisualBehaviorOphysProjectCache.from_s3_cache(cache_dir=data_storage_directory)\n",
        "\n",
        "import sys\n",
        "sys.path.append('/content/drive/MyDrive/ColabNotebooks')\n",
        "from loaddata import get_experiments, get_neural_data"
      ]
    },
    {
      "cell_type": "markdown",
      "metadata": {
        "id": "CtuWW4xSQbTo"
      },
      "source": [
        "- `Ophys_session_table` contains metadata describing imaging sessions. If more than one plane was imaged during a session, one ophys session id will be associated multiple ophys experiment ids. Each ophys session id will also have a unique behavior session id.\n",
        "- `Behavior_session_table` contains metadata describing behavioral sessions, which may or may not be during imaging. Behavior session ids that do not have ophys session ids were training sessions.\n",
        "- `Ophys_experiment_table` contains metadata describing imaging experiments (aka imaging planes). When mesoscope is used, one ophys session may contain up to 8 unique experiments (two visual areas by four imaging depths). Some imaging planes may not be released due to quality control issues, thus each ophys session id is associated with anywhere from one to eight unique experiment ids. Ophys experiment ids are unique and do not repeat across sessions. To find the same imaging plane that was matched across multiple sessions, use the `ophys_container_id` column that can be found in both `ophys_session_table` and `ophys_experiment_table`."
      ]
    },
    {
      "cell_type": "markdown",
      "metadata": {
        "id": "KiRyMmj6QZ6d"
      },
      "source": [
        "Note that a 'session' is a single behavioral session. Sessions that are performed on the mesoscope will have multiple (up to 8) 'experiments' associated with them, where an experiment is a distinct imaging plane."
      ]
    },
    {
      "cell_type": "code",
      "execution_count": 5,
      "metadata": {
        "id": "-p2TMifH7szy"
      },
      "outputs": [],
      "source": [
        "session_table = cache.get_ophys_session_table()\n",
        "experiment_table = cache.get_ophys_experiment_table()"
      ]
    },
    {
      "cell_type": "code",
      "execution_count": 6,
      "metadata": {
        "colab": {
          "base_uri": "https://localhost:8080/"
        },
        "id": "uWvW8Gxng_9Y",
        "outputId": "bc165484-5d09-41dc-9344-079ee5b095cd"
      },
      "outputs": [
        {
          "data": {
            "text/plain": [
              "array(['Sst-IRES-Cre', 'Vip-IRES-Cre', 'Slc17a7-IRES2-Cre'], dtype=object)"
            ]
          },
          "execution_count": 6,
          "metadata": {},
          "output_type": "execute_result"
        }
      ],
      "source": [
        "experiment_table['cre_line'].unique()"
      ]
    },
    {
      "cell_type": "code",
      "execution_count": 7,
      "metadata": {
        "colab": {
          "base_uri": "https://localhost:8080/"
        },
        "id": "1-RxNdeO7szz",
        "outputId": "7320b810-0f16-407d-a7ce-7b70b2012501"
      },
      "outputs": [
        {
          "name": "stdout",
          "output_type": "stream",
          "text": [
            "loading 4 experiments.\n"
          ]
        },
        {
          "name": "stderr",
          "output_type": "stream",
          "text": [
            "/usr/local/lib/python3.10/dist-packages/hdmf/spec/namespace.py:531: UserWarning: Ignoring cached namespace 'hdmf-common' version 1.3.0 because version 1.7.0 is already loaded.\n",
            "  warn(\"Ignoring cached namespace '%s' version %s because version %s is already loaded.\"\n",
            "/usr/local/lib/python3.10/dist-packages/hdmf/spec/namespace.py:531: UserWarning: Ignoring cached namespace 'core' version 2.2.5 because version 2.6.0-alpha is already loaded.\n",
            "  warn(\"Ignoring cached namespace '%s' version %s because version %s is already loaded.\"\n",
            "/usr/local/lib/python3.10/dist-packages/hdmf/spec/namespace.py:531: UserWarning: Ignoring cached namespace 'hdmf-common' version 1.3.0 because version 1.7.0 is already loaded.\n",
            "  warn(\"Ignoring cached namespace '%s' version %s because version %s is already loaded.\"\n",
            "/usr/local/lib/python3.10/dist-packages/hdmf/spec/namespace.py:531: UserWarning: Ignoring cached namespace 'core' version 2.2.5 because version 2.6.0-alpha is already loaded.\n",
            "  warn(\"Ignoring cached namespace '%s' version %s because version %s is already loaded.\"\n",
            "/usr/local/lib/python3.10/dist-packages/hdmf/spec/namespace.py:531: UserWarning: Ignoring cached namespace 'hdmf-common' version 1.3.0 because version 1.7.0 is already loaded.\n",
            "  warn(\"Ignoring cached namespace '%s' version %s because version %s is already loaded.\"\n",
            "/usr/local/lib/python3.10/dist-packages/hdmf/spec/namespace.py:531: UserWarning: Ignoring cached namespace 'core' version 2.2.5 because version 2.6.0-alpha is already loaded.\n",
            "  warn(\"Ignoring cached namespace '%s' version %s because version %s is already loaded.\"\n",
            "/usr/local/lib/python3.10/dist-packages/hdmf/spec/namespace.py:531: UserWarning: Ignoring cached namespace 'hdmf-common' version 1.3.0 because version 1.7.0 is already loaded.\n",
            "  warn(\"Ignoring cached namespace '%s' version %s because version %s is already loaded.\"\n",
            "/usr/local/lib/python3.10/dist-packages/hdmf/spec/namespace.py:531: UserWarning: Ignoring cached namespace 'core' version 2.2.5 because version 2.6.0-alpha is already loaded.\n",
            "  warn(\"Ignoring cached namespace '%s' version %s because version %s is already loaded.\"\n"
          ]
        }
      ],
      "source": [
        "experiments, ophys_experiment_ids = get_experiments(cache, structures=['VISp'], passive=False, unique_session=True, unique_mouse=True) # excitatory cells\n",
        "#experiments, ophys_experiment_ids = get_experiments(cache, structures=['VISp'], passive=False, cre_lines=['Vip-IRES-Cre'], unique_session=True, unique_mouse=True) # inhibitory cells"
      ]
    },
    {
      "cell_type": "markdown",
      "metadata": {
        "id": "euOPMuDxQu2T"
      },
      "source": [
        "Note that the `tidy` format means that each row has only one observation, which represents a single GCaMP6 fluorescnce value for a single neuron."
      ]
    },
    {
      "cell_type": "code",
      "execution_count": 8,
      "metadata": {
        "colab": {
          "base_uri": "https://localhost:8080/",
          "height": 224
        },
        "id": "MWqM4D_iQs_Q",
        "outputId": "27403d31-4384-4883-9d8f-95e74d7cd878"
      },
      "outputs": [
        {
          "name": "stderr",
          "output_type": "stream",
          "text": [
            "100%|██████████| 4/4 [00:06<00:00,  1.62s/it]\n"
          ]
        },
        {
          "data": {
            "text/html": [
              "\n",
              "\n",
              "  <div id=\"df-c39c9b02-d544-43d3-a576-4b683f847503\">\n",
              "    <div class=\"colab-df-container\">\n",
              "      <div>\n",
              "<style scoped>\n",
              "    .dataframe tbody tr th:only-of-type {\n",
              "        vertical-align: middle;\n",
              "    }\n",
              "\n",
              "    .dataframe tbody tr th {\n",
              "        vertical-align: top;\n",
              "    }\n",
              "\n",
              "    .dataframe thead th {\n",
              "        text-align: right;\n",
              "    }\n",
              "</style>\n",
              "<table border=\"1\" class=\"dataframe\">\n",
              "  <thead>\n",
              "    <tr style=\"text-align: right;\">\n",
              "      <th></th>\n",
              "      <th>timestamps</th>\n",
              "      <th>dff</th>\n",
              "      <th>events</th>\n",
              "      <th>filtered_events</th>\n",
              "      <th>cell_roi_id</th>\n",
              "      <th>cell_specimen_id</th>\n",
              "      <th>ophys_experiment_id</th>\n",
              "      <th>ophys_session_id</th>\n",
              "      <th>targeted_structure</th>\n",
              "      <th>imaging_depth</th>\n",
              "      <th>equipment_name</th>\n",
              "      <th>cre_line</th>\n",
              "      <th>mouse_id</th>\n",
              "      <th>sex</th>\n",
              "    </tr>\n",
              "  </thead>\n",
              "  <tbody>\n",
              "    <tr>\n",
              "      <th>0</th>\n",
              "      <td>9.55381</td>\n",
              "      <td>0.253982</td>\n",
              "      <td>0.0</td>\n",
              "      <td>0.0</td>\n",
              "      <td>1080671244</td>\n",
              "      <td>1086594438</td>\n",
              "      <td>990400779</td>\n",
              "      <td>990139534</td>\n",
              "      <td>VISp</td>\n",
              "      <td>None</td>\n",
              "      <td>MESO.1</td>\n",
              "      <td>Slc17a7-IRES2-Cre</td>\n",
              "      <td>479839</td>\n",
              "      <td>M</td>\n",
              "    </tr>\n",
              "    <tr>\n",
              "      <th>1</th>\n",
              "      <td>9.64702</td>\n",
              "      <td>0.295031</td>\n",
              "      <td>0.0</td>\n",
              "      <td>0.0</td>\n",
              "      <td>1080671244</td>\n",
              "      <td>1086594438</td>\n",
              "      <td>990400779</td>\n",
              "      <td>990139534</td>\n",
              "      <td>VISp</td>\n",
              "      <td>None</td>\n",
              "      <td>MESO.1</td>\n",
              "      <td>Slc17a7-IRES2-Cre</td>\n",
              "      <td>479839</td>\n",
              "      <td>M</td>\n",
              "    </tr>\n",
              "    <tr>\n",
              "      <th>2</th>\n",
              "      <td>9.74023</td>\n",
              "      <td>0.109215</td>\n",
              "      <td>0.0</td>\n",
              "      <td>0.0</td>\n",
              "      <td>1080671244</td>\n",
              "      <td>1086594438</td>\n",
              "      <td>990400779</td>\n",
              "      <td>990139534</td>\n",
              "      <td>VISp</td>\n",
              "      <td>None</td>\n",
              "      <td>MESO.1</td>\n",
              "      <td>Slc17a7-IRES2-Cre</td>\n",
              "      <td>479839</td>\n",
              "      <td>M</td>\n",
              "    </tr>\n",
              "    <tr>\n",
              "      <th>3</th>\n",
              "      <td>9.83344</td>\n",
              "      <td>0.174382</td>\n",
              "      <td>0.0</td>\n",
              "      <td>0.0</td>\n",
              "      <td>1080671244</td>\n",
              "      <td>1086594438</td>\n",
              "      <td>990400779</td>\n",
              "      <td>990139534</td>\n",
              "      <td>VISp</td>\n",
              "      <td>None</td>\n",
              "      <td>MESO.1</td>\n",
              "      <td>Slc17a7-IRES2-Cre</td>\n",
              "      <td>479839</td>\n",
              "      <td>M</td>\n",
              "    </tr>\n",
              "    <tr>\n",
              "      <th>4</th>\n",
              "      <td>9.92665</td>\n",
              "      <td>0.102353</td>\n",
              "      <td>0.0</td>\n",
              "      <td>0.0</td>\n",
              "      <td>1080671244</td>\n",
              "      <td>1086594438</td>\n",
              "      <td>990400779</td>\n",
              "      <td>990139534</td>\n",
              "      <td>VISp</td>\n",
              "      <td>None</td>\n",
              "      <td>MESO.1</td>\n",
              "      <td>Slc17a7-IRES2-Cre</td>\n",
              "      <td>479839</td>\n",
              "      <td>M</td>\n",
              "    </tr>\n",
              "  </tbody>\n",
              "</table>\n",
              "</div>\n",
              "      <button class=\"colab-df-convert\" onclick=\"convertToInteractive('df-c39c9b02-d544-43d3-a576-4b683f847503')\"\n",
              "              title=\"Convert this dataframe to an interactive table.\"\n",
              "              style=\"display:none;\">\n",
              "\n",
              "  <svg xmlns=\"http://www.w3.org/2000/svg\" height=\"24px\"viewBox=\"0 0 24 24\"\n",
              "       width=\"24px\">\n",
              "    <path d=\"M0 0h24v24H0V0z\" fill=\"none\"/>\n",
              "    <path d=\"M18.56 5.44l.94 2.06.94-2.06 2.06-.94-2.06-.94-.94-2.06-.94 2.06-2.06.94zm-11 1L8.5 8.5l.94-2.06 2.06-.94-2.06-.94L8.5 2.5l-.94 2.06-2.06.94zm10 10l.94 2.06.94-2.06 2.06-.94-2.06-.94-.94-2.06-.94 2.06-2.06.94z\"/><path d=\"M17.41 7.96l-1.37-1.37c-.4-.4-.92-.59-1.43-.59-.52 0-1.04.2-1.43.59L10.3 9.45l-7.72 7.72c-.78.78-.78 2.05 0 2.83L4 21.41c.39.39.9.59 1.41.59.51 0 1.02-.2 1.41-.59l7.78-7.78 2.81-2.81c.8-.78.8-2.07 0-2.86zM5.41 20L4 18.59l7.72-7.72 1.47 1.35L5.41 20z\"/>\n",
              "  </svg>\n",
              "      </button>\n",
              "\n",
              "\n",
              "\n",
              "    <div id=\"df-46510e42-c7ed-4a3d-850b-ead8164a4dac\">\n",
              "      <button class=\"colab-df-quickchart\" onclick=\"quickchart('df-46510e42-c7ed-4a3d-850b-ead8164a4dac')\"\n",
              "              title=\"Suggest charts.\"\n",
              "              style=\"display:none;\">\n",
              "\n",
              "<svg xmlns=\"http://www.w3.org/2000/svg\" height=\"24px\"viewBox=\"0 0 24 24\"\n",
              "     width=\"24px\">\n",
              "    <g>\n",
              "        <path d=\"M19 3H5c-1.1 0-2 .9-2 2v14c0 1.1.9 2 2 2h14c1.1 0 2-.9 2-2V5c0-1.1-.9-2-2-2zM9 17H7v-7h2v7zm4 0h-2V7h2v10zm4 0h-2v-4h2v4z\"/>\n",
              "    </g>\n",
              "</svg>\n",
              "      </button>\n",
              "    </div>\n",
              "\n",
              "<style>\n",
              "  .colab-df-quickchart {\n",
              "    background-color: #E8F0FE;\n",
              "    border: none;\n",
              "    border-radius: 50%;\n",
              "    cursor: pointer;\n",
              "    display: none;\n",
              "    fill: #1967D2;\n",
              "    height: 32px;\n",
              "    padding: 0 0 0 0;\n",
              "    width: 32px;\n",
              "  }\n",
              "\n",
              "  .colab-df-quickchart:hover {\n",
              "    background-color: #E2EBFA;\n",
              "    box-shadow: 0px 1px 2px rgba(60, 64, 67, 0.3), 0px 1px 3px 1px rgba(60, 64, 67, 0.15);\n",
              "    fill: #174EA6;\n",
              "  }\n",
              "\n",
              "  [theme=dark] .colab-df-quickchart {\n",
              "    background-color: #3B4455;\n",
              "    fill: #D2E3FC;\n",
              "  }\n",
              "\n",
              "  [theme=dark] .colab-df-quickchart:hover {\n",
              "    background-color: #434B5C;\n",
              "    box-shadow: 0px 1px 3px 1px rgba(0, 0, 0, 0.15);\n",
              "    filter: drop-shadow(0px 1px 2px rgba(0, 0, 0, 0.3));\n",
              "    fill: #FFFFFF;\n",
              "  }\n",
              "</style>\n",
              "\n",
              "    <script>\n",
              "      async function quickchart(key) {\n",
              "        const containerElement = document.querySelector('#' + key);\n",
              "        const charts = await google.colab.kernel.invokeFunction(\n",
              "            'suggestCharts', [key], {});\n",
              "      }\n",
              "    </script>\n",
              "\n",
              "      <script>\n",
              "\n",
              "function displayQuickchartButton(domScope) {\n",
              "  let quickchartButtonEl =\n",
              "    domScope.querySelector('#df-46510e42-c7ed-4a3d-850b-ead8164a4dac button.colab-df-quickchart');\n",
              "  quickchartButtonEl.style.display =\n",
              "    google.colab.kernel.accessAllowed ? 'block' : 'none';\n",
              "}\n",
              "\n",
              "        displayQuickchartButton(document);\n",
              "      </script>\n",
              "      <style>\n",
              "    .colab-df-container {\n",
              "      display:flex;\n",
              "      flex-wrap:wrap;\n",
              "      gap: 12px;\n",
              "    }\n",
              "\n",
              "    .colab-df-convert {\n",
              "      background-color: #E8F0FE;\n",
              "      border: none;\n",
              "      border-radius: 50%;\n",
              "      cursor: pointer;\n",
              "      display: none;\n",
              "      fill: #1967D2;\n",
              "      height: 32px;\n",
              "      padding: 0 0 0 0;\n",
              "      width: 32px;\n",
              "    }\n",
              "\n",
              "    .colab-df-convert:hover {\n",
              "      background-color: #E2EBFA;\n",
              "      box-shadow: 0px 1px 2px rgba(60, 64, 67, 0.3), 0px 1px 3px 1px rgba(60, 64, 67, 0.15);\n",
              "      fill: #174EA6;\n",
              "    }\n",
              "\n",
              "    [theme=dark] .colab-df-convert {\n",
              "      background-color: #3B4455;\n",
              "      fill: #D2E3FC;\n",
              "    }\n",
              "\n",
              "    [theme=dark] .colab-df-convert:hover {\n",
              "      background-color: #434B5C;\n",
              "      box-shadow: 0px 1px 3px 1px rgba(0, 0, 0, 0.15);\n",
              "      filter: drop-shadow(0px 1px 2px rgba(0, 0, 0, 0.3));\n",
              "      fill: #FFFFFF;\n",
              "    }\n",
              "  </style>\n",
              "\n",
              "      <script>\n",
              "        const buttonEl =\n",
              "          document.querySelector('#df-c39c9b02-d544-43d3-a576-4b683f847503 button.colab-df-convert');\n",
              "        buttonEl.style.display =\n",
              "          google.colab.kernel.accessAllowed ? 'block' : 'none';\n",
              "\n",
              "        async function convertToInteractive(key) {\n",
              "          const element = document.querySelector('#df-c39c9b02-d544-43d3-a576-4b683f847503');\n",
              "          const dataTable =\n",
              "            await google.colab.kernel.invokeFunction('convertToInteractive',\n",
              "                                                     [key], {});\n",
              "          if (!dataTable) return;\n",
              "\n",
              "          const docLinkHtml = 'Like what you see? Visit the ' +\n",
              "            '<a target=\"_blank\" href=https://colab.research.google.com/notebooks/data_table.ipynb>data table notebook</a>'\n",
              "            + ' to learn more about interactive tables.';\n",
              "          element.innerHTML = '';\n",
              "          dataTable['output_type'] = 'display_data';\n",
              "          await google.colab.output.renderOutput(dataTable, element);\n",
              "          const docLink = document.createElement('div');\n",
              "          docLink.innerHTML = docLinkHtml;\n",
              "          element.appendChild(docLink);\n",
              "        }\n",
              "      </script>\n",
              "    </div>\n",
              "  </div>\n"
            ],
            "text/plain": [
              "   timestamps       dff  events  filtered_events  cell_roi_id  \\\n",
              "0     9.55381  0.253982     0.0              0.0   1080671244   \n",
              "1     9.64702  0.295031     0.0              0.0   1080671244   \n",
              "2     9.74023  0.109215     0.0              0.0   1080671244   \n",
              "3     9.83344  0.174382     0.0              0.0   1080671244   \n",
              "4     9.92665  0.102353     0.0              0.0   1080671244   \n",
              "\n",
              "   cell_specimen_id  ophys_experiment_id  ophys_session_id targeted_structure  \\\n",
              "0        1086594438            990400779         990139534               VISp   \n",
              "1        1086594438            990400779         990139534               VISp   \n",
              "2        1086594438            990400779         990139534               VISp   \n",
              "3        1086594438            990400779         990139534               VISp   \n",
              "4        1086594438            990400779         990139534               VISp   \n",
              "\n",
              "  imaging_depth equipment_name           cre_line mouse_id sex  \n",
              "0          None         MESO.1  Slc17a7-IRES2-Cre   479839   M  \n",
              "1          None         MESO.1  Slc17a7-IRES2-Cre   479839   M  \n",
              "2          None         MESO.1  Slc17a7-IRES2-Cre   479839   M  \n",
              "3          None         MESO.1  Slc17a7-IRES2-Cre   479839   M  \n",
              "4          None         MESO.1  Slc17a7-IRES2-Cre   479839   M  "
            ]
          },
          "execution_count": 8,
          "metadata": {},
          "output_type": "execute_result"
        }
      ],
      "source": [
        "neural_data = get_neural_data(experiments)\n",
        "neural_data.head()"
      ]
    },
    {
      "cell_type": "markdown",
      "metadata": {
        "id": "Z-irzRa4Q89u"
      },
      "source": [
        "- The `cell_roi_id` column contains unique roi ids for all cells in a given experiment, which do not repeat across ophys sessions.\n",
        "- The `cell_specimen_id` column contains unique ids for cells that were matched across ophys sessions. Thus, a cell that was imaged in more than one session has multiple roi ids but one cell specimen id."
      ]
    },
    {
      "cell_type": "code",
      "execution_count": 9,
      "metadata": {
        "colab": {
          "base_uri": "https://localhost:8080/",
          "height": 206
        },
        "id": "Y_uMLk1GI4GZ",
        "outputId": "81126461-7af3-4e4c-9aea-b5da87977fd2"
      },
      "outputs": [
        {
          "data": {
            "text/html": [
              "\n",
              "\n",
              "  <div id=\"df-6a12ad95-c988-4b4f-ada1-d01ee0fb5588\">\n",
              "    <div class=\"colab-df-container\">\n",
              "      <div>\n",
              "<style scoped>\n",
              "    .dataframe tbody tr th:only-of-type {\n",
              "        vertical-align: middle;\n",
              "    }\n",
              "\n",
              "    .dataframe tbody tr th {\n",
              "        vertical-align: top;\n",
              "    }\n",
              "\n",
              "    .dataframe thead th {\n",
              "        text-align: right;\n",
              "    }\n",
              "</style>\n",
              "<table border=\"1\" class=\"dataframe\">\n",
              "  <thead>\n",
              "    <tr style=\"text-align: right;\">\n",
              "      <th></th>\n",
              "      <th>duration</th>\n",
              "      <th>end_frame</th>\n",
              "      <th>flashes_since_change</th>\n",
              "      <th>image_index</th>\n",
              "      <th>image_name</th>\n",
              "      <th>is_change</th>\n",
              "      <th>omitted</th>\n",
              "      <th>start_frame</th>\n",
              "      <th>start_time</th>\n",
              "      <th>end_time</th>\n",
              "    </tr>\n",
              "  </thead>\n",
              "  <tbody>\n",
              "    <tr>\n",
              "      <th>0</th>\n",
              "      <td>0.25016</td>\n",
              "      <td>18001.0</td>\n",
              "      <td>0.0</td>\n",
              "      <td>0</td>\n",
              "      <td>im000</td>\n",
              "      <td>False</td>\n",
              "      <td>False</td>\n",
              "      <td>17986</td>\n",
              "      <td>309.55898</td>\n",
              "      <td>309.80914</td>\n",
              "    </tr>\n",
              "    <tr>\n",
              "      <th>1</th>\n",
              "      <td>0.25021</td>\n",
              "      <td>18046.0</td>\n",
              "      <td>1.0</td>\n",
              "      <td>0</td>\n",
              "      <td>im000</td>\n",
              "      <td>False</td>\n",
              "      <td>False</td>\n",
              "      <td>18031</td>\n",
              "      <td>310.30959</td>\n",
              "      <td>310.55980</td>\n",
              "    </tr>\n",
              "    <tr>\n",
              "      <th>2</th>\n",
              "      <td>0.25018</td>\n",
              "      <td>18091.0</td>\n",
              "      <td>2.0</td>\n",
              "      <td>0</td>\n",
              "      <td>im000</td>\n",
              "      <td>False</td>\n",
              "      <td>False</td>\n",
              "      <td>18076</td>\n",
              "      <td>311.06020</td>\n",
              "      <td>311.31038</td>\n",
              "    </tr>\n",
              "    <tr>\n",
              "      <th>3</th>\n",
              "      <td>0.25020</td>\n",
              "      <td>18136.0</td>\n",
              "      <td>3.0</td>\n",
              "      <td>0</td>\n",
              "      <td>im000</td>\n",
              "      <td>False</td>\n",
              "      <td>False</td>\n",
              "      <td>18121</td>\n",
              "      <td>311.81082</td>\n",
              "      <td>312.06102</td>\n",
              "    </tr>\n",
              "    <tr>\n",
              "      <th>4</th>\n",
              "      <td>0.25021</td>\n",
              "      <td>18181.0</td>\n",
              "      <td>4.0</td>\n",
              "      <td>0</td>\n",
              "      <td>im000</td>\n",
              "      <td>False</td>\n",
              "      <td>False</td>\n",
              "      <td>18166</td>\n",
              "      <td>312.56143</td>\n",
              "      <td>312.81164</td>\n",
              "    </tr>\n",
              "  </tbody>\n",
              "</table>\n",
              "</div>\n",
              "      <button class=\"colab-df-convert\" onclick=\"convertToInteractive('df-6a12ad95-c988-4b4f-ada1-d01ee0fb5588')\"\n",
              "              title=\"Convert this dataframe to an interactive table.\"\n",
              "              style=\"display:none;\">\n",
              "\n",
              "  <svg xmlns=\"http://www.w3.org/2000/svg\" height=\"24px\"viewBox=\"0 0 24 24\"\n",
              "       width=\"24px\">\n",
              "    <path d=\"M0 0h24v24H0V0z\" fill=\"none\"/>\n",
              "    <path d=\"M18.56 5.44l.94 2.06.94-2.06 2.06-.94-2.06-.94-.94-2.06-.94 2.06-2.06.94zm-11 1L8.5 8.5l.94-2.06 2.06-.94-2.06-.94L8.5 2.5l-.94 2.06-2.06.94zm10 10l.94 2.06.94-2.06 2.06-.94-2.06-.94-.94-2.06-.94 2.06-2.06.94z\"/><path d=\"M17.41 7.96l-1.37-1.37c-.4-.4-.92-.59-1.43-.59-.52 0-1.04.2-1.43.59L10.3 9.45l-7.72 7.72c-.78.78-.78 2.05 0 2.83L4 21.41c.39.39.9.59 1.41.59.51 0 1.02-.2 1.41-.59l7.78-7.78 2.81-2.81c.8-.78.8-2.07 0-2.86zM5.41 20L4 18.59l7.72-7.72 1.47 1.35L5.41 20z\"/>\n",
              "  </svg>\n",
              "      </button>\n",
              "\n",
              "\n",
              "\n",
              "    <div id=\"df-e4878aaa-ede5-40c1-ac4b-56760ba09949\">\n",
              "      <button class=\"colab-df-quickchart\" onclick=\"quickchart('df-e4878aaa-ede5-40c1-ac4b-56760ba09949')\"\n",
              "              title=\"Suggest charts.\"\n",
              "              style=\"display:none;\">\n",
              "\n",
              "<svg xmlns=\"http://www.w3.org/2000/svg\" height=\"24px\"viewBox=\"0 0 24 24\"\n",
              "     width=\"24px\">\n",
              "    <g>\n",
              "        <path d=\"M19 3H5c-1.1 0-2 .9-2 2v14c0 1.1.9 2 2 2h14c1.1 0 2-.9 2-2V5c0-1.1-.9-2-2-2zM9 17H7v-7h2v7zm4 0h-2V7h2v10zm4 0h-2v-4h2v4z\"/>\n",
              "    </g>\n",
              "</svg>\n",
              "      </button>\n",
              "    </div>\n",
              "\n",
              "<style>\n",
              "  .colab-df-quickchart {\n",
              "    background-color: #E8F0FE;\n",
              "    border: none;\n",
              "    border-radius: 50%;\n",
              "    cursor: pointer;\n",
              "    display: none;\n",
              "    fill: #1967D2;\n",
              "    height: 32px;\n",
              "    padding: 0 0 0 0;\n",
              "    width: 32px;\n",
              "  }\n",
              "\n",
              "  .colab-df-quickchart:hover {\n",
              "    background-color: #E2EBFA;\n",
              "    box-shadow: 0px 1px 2px rgba(60, 64, 67, 0.3), 0px 1px 3px 1px rgba(60, 64, 67, 0.15);\n",
              "    fill: #174EA6;\n",
              "  }\n",
              "\n",
              "  [theme=dark] .colab-df-quickchart {\n",
              "    background-color: #3B4455;\n",
              "    fill: #D2E3FC;\n",
              "  }\n",
              "\n",
              "  [theme=dark] .colab-df-quickchart:hover {\n",
              "    background-color: #434B5C;\n",
              "    box-shadow: 0px 1px 3px 1px rgba(0, 0, 0, 0.15);\n",
              "    filter: drop-shadow(0px 1px 2px rgba(0, 0, 0, 0.3));\n",
              "    fill: #FFFFFF;\n",
              "  }\n",
              "</style>\n",
              "\n",
              "    <script>\n",
              "      async function quickchart(key) {\n",
              "        const containerElement = document.querySelector('#' + key);\n",
              "        const charts = await google.colab.kernel.invokeFunction(\n",
              "            'suggestCharts', [key], {});\n",
              "      }\n",
              "    </script>\n",
              "\n",
              "      <script>\n",
              "\n",
              "function displayQuickchartButton(domScope) {\n",
              "  let quickchartButtonEl =\n",
              "    domScope.querySelector('#df-e4878aaa-ede5-40c1-ac4b-56760ba09949 button.colab-df-quickchart');\n",
              "  quickchartButtonEl.style.display =\n",
              "    google.colab.kernel.accessAllowed ? 'block' : 'none';\n",
              "}\n",
              "\n",
              "        displayQuickchartButton(document);\n",
              "      </script>\n",
              "      <style>\n",
              "    .colab-df-container {\n",
              "      display:flex;\n",
              "      flex-wrap:wrap;\n",
              "      gap: 12px;\n",
              "    }\n",
              "\n",
              "    .colab-df-convert {\n",
              "      background-color: #E8F0FE;\n",
              "      border: none;\n",
              "      border-radius: 50%;\n",
              "      cursor: pointer;\n",
              "      display: none;\n",
              "      fill: #1967D2;\n",
              "      height: 32px;\n",
              "      padding: 0 0 0 0;\n",
              "      width: 32px;\n",
              "    }\n",
              "\n",
              "    .colab-df-convert:hover {\n",
              "      background-color: #E2EBFA;\n",
              "      box-shadow: 0px 1px 2px rgba(60, 64, 67, 0.3), 0px 1px 3px 1px rgba(60, 64, 67, 0.15);\n",
              "      fill: #174EA6;\n",
              "    }\n",
              "\n",
              "    [theme=dark] .colab-df-convert {\n",
              "      background-color: #3B4455;\n",
              "      fill: #D2E3FC;\n",
              "    }\n",
              "\n",
              "    [theme=dark] .colab-df-convert:hover {\n",
              "      background-color: #434B5C;\n",
              "      box-shadow: 0px 1px 3px 1px rgba(0, 0, 0, 0.15);\n",
              "      filter: drop-shadow(0px 1px 2px rgba(0, 0, 0, 0.3));\n",
              "      fill: #FFFFFF;\n",
              "    }\n",
              "  </style>\n",
              "\n",
              "      <script>\n",
              "        const buttonEl =\n",
              "          document.querySelector('#df-6a12ad95-c988-4b4f-ada1-d01ee0fb5588 button.colab-df-convert');\n",
              "        buttonEl.style.display =\n",
              "          google.colab.kernel.accessAllowed ? 'block' : 'none';\n",
              "\n",
              "        async function convertToInteractive(key) {\n",
              "          const element = document.querySelector('#df-6a12ad95-c988-4b4f-ada1-d01ee0fb5588');\n",
              "          const dataTable =\n",
              "            await google.colab.kernel.invokeFunction('convertToInteractive',\n",
              "                                                     [key], {});\n",
              "          if (!dataTable) return;\n",
              "\n",
              "          const docLinkHtml = 'Like what you see? Visit the ' +\n",
              "            '<a target=\"_blank\" href=https://colab.research.google.com/notebooks/data_table.ipynb>data table notebook</a>'\n",
              "            + ' to learn more about interactive tables.';\n",
              "          element.innerHTML = '';\n",
              "          dataTable['output_type'] = 'display_data';\n",
              "          await google.colab.output.renderOutput(dataTable, element);\n",
              "          const docLink = document.createElement('div');\n",
              "          docLink.innerHTML = docLinkHtml;\n",
              "          element.appendChild(docLink);\n",
              "        }\n",
              "      </script>\n",
              "    </div>\n",
              "  </div>\n"
            ],
            "text/plain": [
              "   duration  end_frame  flashes_since_change  image_index image_name  \\\n",
              "0   0.25016    18001.0                   0.0            0      im000   \n",
              "1   0.25021    18046.0                   1.0            0      im000   \n",
              "2   0.25018    18091.0                   2.0            0      im000   \n",
              "3   0.25020    18136.0                   3.0            0      im000   \n",
              "4   0.25021    18181.0                   4.0            0      im000   \n",
              "\n",
              "   is_change  omitted  start_frame  start_time   end_time  \n",
              "0      False    False        17986   309.55898  309.80914  \n",
              "1      False    False        18031   310.30959  310.55980  \n",
              "2      False    False        18076   311.06020  311.31038  \n",
              "3      False    False        18121   311.81082  312.06102  \n",
              "4      False    False        18166   312.56143  312.81164  "
            ]
          },
          "execution_count": 9,
          "metadata": {},
          "output_type": "execute_result"
        }
      ],
      "source": [
        "# stimulus_table = experiments[ophys_experiment_ids[0]].stimulus_presentations\n",
        "stimulus_table = pd.concat([experiments[ophys_experiment_ids[i]].stimulus_presentations for i in range(4)], ignore_index=True)\n",
        "experiment = experiments[ophys_experiment_ids[0]]\n",
        "stimulus_table.head()"
      ]
    },
    {
      "cell_type": "code",
      "execution_count": 10,
      "metadata": {
        "id": "tUoVhGCV7sz1"
      },
      "outputs": [],
      "source": [
        "# Examine Cell IDs\n",
        "cell_ids = neural_data['cell_specimen_id'].unique()"
      ]
    },
    {
      "cell_type": "markdown",
      "metadata": {
        "id": "gvZPubzmRFZu"
      },
      "source": [
        "Each cell has three types of traces:\n",
        "\n",
        "dff column is the Calcium fluorescence signal, normalized to background fluorescence.\n",
        "events column is deconvolved events from dff trace, which approximates neural firing rate and removes the slow decay of the Calcium signal (for more details, you can read EVENT DETECTION section in Visual Behavior whitepaper).\n",
        "filtered_events column is events smoothed with a half-gaussian kernel."
      ]
    },
    {
      "cell_type": "markdown",
      "metadata": {
        "id": "EG8WRPKBRRVO"
      },
      "source": [
        "# Plot an event triggered response\n",
        "If we make a wrapper function that combines the process of calculating and plotting the event triggered response, it can be called in a single line below. By having `event_query` input variable, we can use this function to plot responses to any event of interest (omisisons, changes, hits/misses, specific images, etc)"
      ]
    },
    {
      "cell_type": "code",
      "execution_count": 11,
      "metadata": {
        "id": "-ZYM6wlxRfCA"
      },
      "outputs": [],
      "source": [
        "def make_event_triggered_plot(df, x, y, event_query, ax, t_before=3, t_after=3):\n",
        "    etr = utilities.event_triggered_response(\n",
        "      data=df,\n",
        "      t='timestamps',\n",
        "      y=y,\n",
        "      event_times=event_query,                                              # <--\n",
        "      t_before=t_before,\n",
        "      t_after=t_after,                                                      # <--\n",
        "      output_sampling_rate=50,\n",
        "      )\n",
        "    sns.lineplot(\n",
        "      data=etr,\n",
        "      x=x,\n",
        "      y=y,\n",
        "      n_boot=500,\n",
        "      ax=ax\n",
        "      )"
      ]
    },
    {
      "cell_type": "code",
      "execution_count": 12,
      "metadata": {
        "colab": {
          "base_uri": "https://localhost:8080/",
          "height": 449
        },
        "id": "A0dwfWaXRnHo",
        "outputId": "ffdcbc59-a79c-4bcb-b810-e6ad6930cff0"
      },
      "outputs": [
        {
          "data": {
            "image/png": "[encoded data removed]",
            "text/plain": [
              "<Figure size 640x480 with 1 Axes>"
            ]
          },
          "metadata": {},
          "output_type": "display_data"
        }
      ],
      "source": [
        "cell_id = cell_ids[11]\n",
        "fig, ax = plt.subplots()\n",
        "make_event_triggered_plot(\n",
        "    df=neural_data.query('cell_specimen_id == @cell_id'),\n",
        "    x='time',\n",
        "    # --- Filtered or unfiltered data ---------------------------------\n",
        "    y = 'dff',                                                             # deltaF/F value surrounding each event\n",
        "    #y='filtered_events',                                                   # filtered events\n",
        "    # --- Events ------------------------------------------------------\n",
        "    event_query=stimulus_table.query('omitted')['start_time'],             # Omitted stimuli\n",
        "    #event_query=stimulus_table[~stimulus_table['omitted']]['start_time'],  # Presented stimuli\n",
        "    #event_query=experiment.licks.timestamps,                               # Licks\n",
        "    #event_query=experiment.rewards.timestamps,                             # Rewards\n",
        "\n",
        "    ax=ax,\n",
        "    t_before=.75,\n",
        "    t_after=.75\n",
        ")\n",
        "fig.show()"
      ]
    },
    {
      "cell_type": "markdown",
      "metadata": {
        "id": "-aU3jyQa7sz-"
      },
      "source": [
        "# Set up data for scikit learn\n",
        "To use scikit-learn for a decoding or clustering analysis we need to get the data into a standard format for scikit learn, which is often a feature matrix (`X`) and a vector of labels (`y`).\n",
        "\n",
        "We now look at the responses to each of the stimuli in this session, which consists of 8 unique images, plus the omitted stimuli (which we characterize as a unique stimulus type). First, we will calculate an event triggered response to each stimulus start time in the stimulus table."
      ]
    },
    {
      "cell_type": "code",
      "execution_count": 13,
      "metadata": {
        "colab": {
          "base_uri": "https://localhost:8080/"
        },
        "id": "6VCJkRpV7sz-",
        "outputId": "114bde0a-f7a8-44d5-e0b2-f44b62c2d7e4"
      },
      "outputs": [
        {
          "name": "stderr",
          "output_type": "stream",
          "text": [
            "100%|██████████| 268/268 [05:21<00:00,  1.20s/it]\n"
          ]
        }
      ],
      "source": [
        "full_etr_l = []\n",
        "# iterate over each unique cell\n",
        "for cell_specimen_id in tqdm(neural_data['cell_specimen_id'].unique()):\n",
        "  # calculate the event triggered response for this cell to every stimulus\n",
        "  full_etr_this_cell = utilities.event_triggered_response(\n",
        "      neural_data.query('cell_specimen_id == @cell_specimen_id'),\n",
        "      t='timestamps',\n",
        "      y='dff',\n",
        "      event_times=stimulus_table['start_time'],\n",
        "      t_before=0,\n",
        "      t_after=0.75,\n",
        "      interpolate = False\n",
        "      #output_sampling_rate=30\n",
        "  )\n",
        "  # add a column identifying the cell_specimen_id\n",
        "  full_etr_this_cell['cell_specimen_id'] = cell_specimen_id\n",
        "  # append to our list\n",
        "  full_etr_l.append(full_etr_this_cell)\n",
        "\n",
        "# concatenate our list of dataframes into a single dataframe\n",
        "full_etr = pd.concat(full_etr_l)\n",
        "\n",
        "# cast these numeric columns to int and float, respectively\n",
        "full_etr['event_number'] = full_etr['event_number'].astype(int)\n",
        "full_etr['event_time'] = full_etr['event_number'].astype(float)\n"
      ]
    },
    {
      "cell_type": "markdown",
      "metadata": {
        "id": "EphzYwTW7sz-"
      },
      "source": [
        "One way to construct a feature matrix might be to build it such that dimensions are `trials x cells`. Thus:\n",
        "\n",
        "* Each row would be one trial, where a trial is defined as a unique image presentation\n",
        "* Each column would represent the average response of a given cell on that image presentation.\n",
        "\n",
        "To do so, let's construct another intermediate dataframe called `average_responses` that contains the average response of each cell (in the 750 ms window we've selected above) to each image presentation. We'll do this using a Pandas groupby to group by `cell_specimen_id` and `stimulus_presentations_id` (aka trial).\n",
        "\n",
        "We're also going to merge in our stimulus metadata."
      ]
    },
    {
      "cell_type": "code",
      "execution_count": 14,
      "metadata": {
        "colab": {
          "base_uri": "https://localhost:8080/",
          "height": 206
        },
        "id": "VFMy8L_q7sz_",
        "outputId": "78f4fd09-a092-44b9-bd16-20bec3c2d6ad"
      },
      "outputs": [
        {
          "data": {
            "text/html": [
              "\n",
              "\n",
              "  <div id=\"df-daabb4e8-7cc9-4a2c-8a30-270362f0600d\">\n",
              "    <div class=\"colab-df-container\">\n",
              "      <div>\n",
              "<style scoped>\n",
              "    .dataframe tbody tr th:only-of-type {\n",
              "        vertical-align: middle;\n",
              "    }\n",
              "\n",
              "    .dataframe tbody tr th {\n",
              "        vertical-align: top;\n",
              "    }\n",
              "\n",
              "    .dataframe thead th {\n",
              "        text-align: right;\n",
              "    }\n",
              "</style>\n",
              "<table border=\"1\" class=\"dataframe\">\n",
              "  <thead>\n",
              "    <tr style=\"text-align: right;\">\n",
              "      <th></th>\n",
              "      <th>cell_specimen_id</th>\n",
              "      <th>original_index</th>\n",
              "      <th>dff</th>\n",
              "      <th>duration</th>\n",
              "      <th>end_frame</th>\n",
              "      <th>flashes_since_change</th>\n",
              "      <th>image_index</th>\n",
              "      <th>image_name</th>\n",
              "      <th>is_change</th>\n",
              "      <th>omitted</th>\n",
              "      <th>start_frame</th>\n",
              "      <th>start_time</th>\n",
              "      <th>end_time</th>\n",
              "    </tr>\n",
              "  </thead>\n",
              "  <tbody>\n",
              "    <tr>\n",
              "      <th>0</th>\n",
              "      <td>1086510464</td>\n",
              "      <td>0</td>\n",
              "      <td>0.011043</td>\n",
              "      <td>0.25016</td>\n",
              "      <td>18001.0</td>\n",
              "      <td>0.0</td>\n",
              "      <td>0</td>\n",
              "      <td>im000</td>\n",
              "      <td>False</td>\n",
              "      <td>False</td>\n",
              "      <td>17986</td>\n",
              "      <td>309.55898</td>\n",
              "      <td>309.80914</td>\n",
              "    </tr>\n",
              "    <tr>\n",
              "      <th>1</th>\n",
              "      <td>1086510464</td>\n",
              "      <td>1</td>\n",
              "      <td>-0.048578</td>\n",
              "      <td>0.25021</td>\n",
              "      <td>18046.0</td>\n",
              "      <td>1.0</td>\n",
              "      <td>0</td>\n",
              "      <td>im000</td>\n",
              "      <td>False</td>\n",
              "      <td>False</td>\n",
              "      <td>18031</td>\n",
              "      <td>310.30959</td>\n",
              "      <td>310.55980</td>\n",
              "    </tr>\n",
              "    <tr>\n",
              "      <th>2</th>\n",
              "      <td>1086510464</td>\n",
              "      <td>2</td>\n",
              "      <td>0.026204</td>\n",
              "      <td>0.25018</td>\n",
              "      <td>18091.0</td>\n",
              "      <td>2.0</td>\n",
              "      <td>0</td>\n",
              "      <td>im000</td>\n",
              "      <td>False</td>\n",
              "      <td>False</td>\n",
              "      <td>18076</td>\n",
              "      <td>311.06020</td>\n",
              "      <td>311.31038</td>\n",
              "    </tr>\n",
              "    <tr>\n",
              "      <th>3</th>\n",
              "      <td>1086510464</td>\n",
              "      <td>3</td>\n",
              "      <td>-0.022699</td>\n",
              "      <td>0.25020</td>\n",
              "      <td>18136.0</td>\n",
              "      <td>3.0</td>\n",
              "      <td>0</td>\n",
              "      <td>im000</td>\n",
              "      <td>False</td>\n",
              "      <td>False</td>\n",
              "      <td>18121</td>\n",
              "      <td>311.81082</td>\n",
              "      <td>312.06102</td>\n",
              "    </tr>\n",
              "    <tr>\n",
              "      <th>4</th>\n",
              "      <td>1086510464</td>\n",
              "      <td>4</td>\n",
              "      <td>0.008664</td>\n",
              "      <td>0.25021</td>\n",
              "      <td>18181.0</td>\n",
              "      <td>4.0</td>\n",
              "      <td>0</td>\n",
              "      <td>im000</td>\n",
              "      <td>False</td>\n",
              "      <td>False</td>\n",
              "      <td>18166</td>\n",
              "      <td>312.56143</td>\n",
              "      <td>312.81164</td>\n",
              "    </tr>\n",
              "  </tbody>\n",
              "</table>\n",
              "</div>\n",
              "      <button class=\"colab-df-convert\" onclick=\"convertToInteractive('df-daabb4e8-7cc9-4a2c-8a30-270362f0600d')\"\n",
              "              title=\"Convert this dataframe to an interactive table.\"\n",
              "              style=\"display:none;\">\n",
              "\n",
              "  <svg xmlns=\"http://www.w3.org/2000/svg\" height=\"24px\"viewBox=\"0 0 24 24\"\n",
              "       width=\"24px\">\n",
              "    <path d=\"M0 0h24v24H0V0z\" fill=\"none\"/>\n",
              "    <path d=\"M18.56 5.44l.94 2.06.94-2.06 2.06-.94-2.06-.94-.94-2.06-.94 2.06-2.06.94zm-11 1L8.5 8.5l.94-2.06 2.06-.94-2.06-.94L8.5 2.5l-.94 2.06-2.06.94zm10 10l.94 2.06.94-2.06 2.06-.94-2.06-.94-.94-2.06-.94 2.06-2.06.94z\"/><path d=\"M17.41 7.96l-1.37-1.37c-.4-.4-.92-.59-1.43-.59-.52 0-1.04.2-1.43.59L10.3 9.45l-7.72 7.72c-.78.78-.78 2.05 0 2.83L4 21.41c.39.39.9.59 1.41.59.51 0 1.02-.2 1.41-.59l7.78-7.78 2.81-2.81c.8-.78.8-2.07 0-2.86zM5.41 20L4 18.59l7.72-7.72 1.47 1.35L5.41 20z\"/>\n",
              "  </svg>\n",
              "      </button>\n",
              "\n",
              "\n",
              "\n",
              "    <div id=\"df-8cc10c60-116c-4c56-aead-e39816224662\">\n",
              "      <button class=\"colab-df-quickchart\" onclick=\"quickchart('df-8cc10c60-116c-4c56-aead-e39816224662')\"\n",
              "              title=\"Suggest charts.\"\n",
              "              style=\"display:none;\">\n",
              "\n",
              "<svg xmlns=\"http://www.w3.org/2000/svg\" height=\"24px\"viewBox=\"0 0 24 24\"\n",
              "     width=\"24px\">\n",
              "    <g>\n",
              "        <path d=\"M19 3H5c-1.1 0-2 .9-2 2v14c0 1.1.9 2 2 2h14c1.1 0 2-.9 2-2V5c0-1.1-.9-2-2-2zM9 17H7v-7h2v7zm4 0h-2V7h2v10zm4 0h-2v-4h2v4z\"/>\n",
              "    </g>\n",
              "</svg>\n",
              "      </button>\n",
              "    </div>\n",
              "\n",
              "<style>\n",
              "  .colab-df-quickchart {\n",
              "    background-color: #E8F0FE;\n",
              "    border: none;\n",
              "    border-radius: 50%;\n",
              "    cursor: pointer;\n",
              "    display: none;\n",
              "    fill: #1967D2;\n",
              "    height: 32px;\n",
              "    padding: 0 0 0 0;\n",
              "    width: 32px;\n",
              "  }\n",
              "\n",
              "  .colab-df-quickchart:hover {\n",
              "    background-color: #E2EBFA;\n",
              "    box-shadow: 0px 1px 2px rgba(60, 64, 67, 0.3), 0px 1px 3px 1px rgba(60, 64, 67, 0.15);\n",
              "    fill: #174EA6;\n",
              "  }\n",
              "\n",
              "  [theme=dark] .colab-df-quickchart {\n",
              "    background-color: #3B4455;\n",
              "    fill: #D2E3FC;\n",
              "  }\n",
              "\n",
              "  [theme=dark] .colab-df-quickchart:hover {\n",
              "    background-color: #434B5C;\n",
              "    box-shadow: 0px 1px 3px 1px rgba(0, 0, 0, 0.15);\n",
              "    filter: drop-shadow(0px 1px 2px rgba(0, 0, 0, 0.3));\n",
              "    fill: #FFFFFF;\n",
              "  }\n",
              "</style>\n",
              "\n",
              "    <script>\n",
              "      async function quickchart(key) {\n",
              "        const containerElement = document.querySelector('#' + key);\n",
              "        const charts = await google.colab.kernel.invokeFunction(\n",
              "            'suggestCharts', [key], {});\n",
              "      }\n",
              "    </script>\n",
              "\n",
              "      <script>\n",
              "\n",
              "function displayQuickchartButton(domScope) {\n",
              "  let quickchartButtonEl =\n",
              "    domScope.querySelector('#df-8cc10c60-116c-4c56-aead-e39816224662 button.colab-df-quickchart');\n",
              "  quickchartButtonEl.style.display =\n",
              "    google.colab.kernel.accessAllowed ? 'block' : 'none';\n",
              "}\n",
              "\n",
              "        displayQuickchartButton(document);\n",
              "      </script>\n",
              "      <style>\n",
              "    .colab-df-container {\n",
              "      display:flex;\n",
              "      flex-wrap:wrap;\n",
              "      gap: 12px;\n",
              "    }\n",
              "\n",
              "    .colab-df-convert {\n",
              "      background-color: #E8F0FE;\n",
              "      border: none;\n",
              "      border-radius: 50%;\n",
              "      cursor: pointer;\n",
              "      display: none;\n",
              "      fill: #1967D2;\n",
              "      height: 32px;\n",
              "      padding: 0 0 0 0;\n",
              "      width: 32px;\n",
              "    }\n",
              "\n",
              "    .colab-df-convert:hover {\n",
              "      background-color: #E2EBFA;\n",
              "      box-shadow: 0px 1px 2px rgba(60, 64, 67, 0.3), 0px 1px 3px 1px rgba(60, 64, 67, 0.15);\n",
              "      fill: #174EA6;\n",
              "    }\n",
              "\n",
              "    [theme=dark] .colab-df-convert {\n",
              "      background-color: #3B4455;\n",
              "      fill: #D2E3FC;\n",
              "    }\n",
              "\n",
              "    [theme=dark] .colab-df-convert:hover {\n",
              "      background-color: #434B5C;\n",
              "      box-shadow: 0px 1px 3px 1px rgba(0, 0, 0, 0.15);\n",
              "      filter: drop-shadow(0px 1px 2px rgba(0, 0, 0, 0.3));\n",
              "      fill: #FFFFFF;\n",
              "    }\n",
              "  </style>\n",
              "\n",
              "      <script>\n",
              "        const buttonEl =\n",
              "          document.querySelector('#df-daabb4e8-7cc9-4a2c-8a30-270362f0600d button.colab-df-convert');\n",
              "        buttonEl.style.display =\n",
              "          google.colab.kernel.accessAllowed ? 'block' : 'none';\n",
              "\n",
              "        async function convertToInteractive(key) {\n",
              "          const element = document.querySelector('#df-daabb4e8-7cc9-4a2c-8a30-270362f0600d');\n",
              "          const dataTable =\n",
              "            await google.colab.kernel.invokeFunction('convertToInteractive',\n",
              "                                                     [key], {});\n",
              "          if (!dataTable) return;\n",
              "\n",
              "          const docLinkHtml = 'Like what you see? Visit the ' +\n",
              "            '<a target=\"_blank\" href=https://colab.research.google.com/notebooks/data_table.ipynb>data table notebook</a>'\n",
              "            + ' to learn more about interactive tables.';\n",
              "          element.innerHTML = '';\n",
              "          dataTable['output_type'] = 'display_data';\n",
              "          await google.colab.output.renderOutput(dataTable, element);\n",
              "          const docLink = document.createElement('div');\n",
              "          docLink.innerHTML = docLinkHtml;\n",
              "          element.appendChild(docLink);\n",
              "        }\n",
              "      </script>\n",
              "    </div>\n",
              "  </div>\n"
            ],
            "text/plain": [
              "   cell_specimen_id  original_index       dff  duration  end_frame  \\\n",
              "0        1086510464               0  0.011043   0.25016    18001.0   \n",
              "1        1086510464               1 -0.048578   0.25021    18046.0   \n",
              "2        1086510464               2  0.026204   0.25018    18091.0   \n",
              "3        1086510464               3 -0.022699   0.25020    18136.0   \n",
              "4        1086510464               4  0.008664   0.25021    18181.0   \n",
              "\n",
              "   flashes_since_change  image_index image_name  is_change  omitted  \\\n",
              "0                   0.0            0      im000      False    False   \n",
              "1                   1.0            0      im000      False    False   \n",
              "2                   2.0            0      im000      False    False   \n",
              "3                   3.0            0      im000      False    False   \n",
              "4                   4.0            0      im000      False    False   \n",
              "\n",
              "   start_frame  start_time   end_time  \n",
              "0        17986   309.55898  309.80914  \n",
              "1        18031   310.30959  310.55980  \n",
              "2        18076   311.06020  311.31038  \n",
              "3        18121   311.81082  312.06102  \n",
              "4        18166   312.56143  312.81164  "
            ]
          },
          "execution_count": 14,
          "metadata": {},
          "output_type": "execute_result"
        }
      ],
      "source": [
        "average_responses = full_etr.groupby(['cell_specimen_id', 'original_index'])[['dff']].mean().reset_index().merge(\n",
        "    stimulus_table,\n",
        "    on='original_index',\n",
        "    how='left'\n",
        ")\n",
        "average_responses.head()"
      ]
    },
    {
      "cell_type": "markdown",
      "metadata": {
        "id": "ezyKkO2JR_dJ"
      },
      "source": [
        "Now we can construct a dataframe called `features_and_labels` that will contain one row per trial, one column per cell, plus columns with the image_index and image_name"
      ]
    },
    {
      "cell_type": "code",
      "execution_count": 15,
      "metadata": {
        "id": "oUNvDvXS7s0A"
      },
      "outputs": [],
      "source": [
        "features_and_labels = average_responses.pivot(\n",
        "    index='original_index',\n",
        "    columns='cell_specimen_id',\n",
        "    values='dff'\n",
        ").merge(\n",
        "    stimulus_table[['image_index','image_name']],\n",
        "    on='original_index',\n",
        "    how='left'\n",
        ")\n",
        "features_and_labels.dropna(inplace=True)"
      ]
    },
    {
      "cell_type": "code",
      "execution_count": 17,
      "metadata": {
        "id": "rur7JpOq7s0A"
      },
      "outputs": [],
      "source": [
        "X = features_and_labels[cell_ids]"
      ]
    },
    {
      "cell_type": "code",
      "execution_count": 18,
      "metadata": {
        "id": "O-vpRdjo7s0A"
      },
      "outputs": [],
      "source": [
        "y = features_and_labels['image_index']"
      ]
    },
    {
      "cell_type": "markdown",
      "metadata": {
        "id": "h426ppoc7s0A"
      },
      "source": [
        "Split our data into train and test sets.\n",
        "\n"
      ]
    },
    {
      "cell_type": "code",
      "execution_count": 19,
      "metadata": {
        "id": "RvlMQ4nS7s0A"
      },
      "outputs": [],
      "source": [
        "X_train, X_test, y_train, y_test = train_test_split(X, y, test_size=0.2, shuffle=False)"
      ]
    },
    {
      "cell_type": "markdown",
      "metadata": {
        "id": "kj-MACW9ZdQ7"
      },
      "source": [
        "Run on GPU."
      ]
    },
    {
      "cell_type": "code",
      "execution_count": 16,
      "metadata": {
        "id": "W0ydyhSXabRC"
      },
      "outputs": [],
      "source": [
        "device = 'cuda'"
      ]
    },
    {
      "cell_type": "markdown",
      "metadata": {
        "id": "QYrkAaKJ7s0A"
      },
      "source": [
        "## Dimensionality reduction: PCA"
      ]
    },
    {
      "cell_type": "code",
      "execution_count": 20,
      "metadata": {
        "id": "48u0O7CtWWQo"
      },
      "outputs": [],
      "source": [
        "import numpy as np\n",
        "from sklearn.preprocessing import StandardScaler\n",
        "from sklearn.decomposition import PCA\n",
        "scaler = StandardScaler()\n",
        "data_standardized = scaler.fit_transform(X.values)\n",
        "pca = PCA(n_components=0.95) # Keep components that explain 95% of the variance\n",
        "data_pca = pca.fit_transform(data_standardized)\n",
        "explained_variance_ratio = pca.explained_variance_ratio_"
      ]
    },
    {
      "cell_type": "code",
      "execution_count": 21,
      "metadata": {
        "colab": {
          "base_uri": "https://localhost:8080/"
        },
        "id": "PqFQOa33Zvay",
        "outputId": "9b98dd2f-cc6d-4909-f08f-20ac96381104"
      },
      "outputs": [
        {
          "name": "stdout",
          "output_type": "stream",
          "text": [
            "234 out of 268 neurons explain 95 % of variance\n"
          ]
        }
      ],
      "source": [
        "print('{} out of {} neurons explain 95 % of variance'.format(len(explained_variance_ratio),X.shape[1]))"
      ]
    },
    {
      "cell_type": "markdown",
      "metadata": {},
      "source": [
        "-> 234 out of 268 neurons explain 95 % of variance\n",
        "\n",
        "Looks like print outputs aren't saved/shown. I'll include them manually and indicate them by adding '->' at the beginning of the line from here on."
      ]
    },
    {
      "cell_type": "markdown",
      "metadata": {
        "id": "mBne60B1SNHP"
      },
      "source": [
        "Since 87% of neurons are required to explain 95 % of variance in the data, we didn't use dimensionality reduction."
      ]
    },
    {
      "cell_type": "markdown",
      "metadata": {
        "id": "AsKFiTZIqAbB"
      },
      "source": [
        "# Neural Network"
      ]
    },
    {
      "cell_type": "markdown",
      "metadata": {
        "id": "LQLRG4_ISwMs"
      },
      "source": [
        "Here we apply *deep logistic regression* using a *multilayer perceptron* to classify the presented images and omitted stimuli -> 9 classes.\n"
      ]
    },
    {
      "cell_type": "code",
      "execution_count": 22,
      "metadata": {
        "id": "5GCSWROLqANK"
      },
      "outputs": [],
      "source": [
        "from torch.utils.data import TensorDataset, DataLoader\n",
        "\n",
        "class DeepNetReLU(nn.Module):\n",
        "  def __init__(self, n_inputs, n_outputs, n_hidden = []):\n",
        "    super().__init__()\n",
        "    inputs = n_inputs\n",
        "    layers = []\n",
        "    for h in n_hidden:\n",
        "      layers.append(nn.Linear(inputs,h))\n",
        "      layers.append(nn.Dropout(.35))\n",
        "      inputs = h\n",
        "    layers.append(nn.Linear(inputs,n_outputs))\n",
        "    self.layers = nn.ModuleList(layers)\n",
        "\n",
        "  def forward(self, r):\n",
        "    for i,layer in enumerate(self.layers):\n",
        "      r = layer(r)\n",
        "      if i < len(self.layers)-1:\n",
        "        r = torch.relu(r)\n",
        "    return r"
      ]
    },
    {
      "cell_type": "code",
      "execution_count": 23,
      "metadata": {
        "id": "8ZicBgsB-BuN"
      },
      "outputs": [],
      "source": [
        "def plot_train_loss(train_loss):\n",
        "  plt.plot(train_loss)\n",
        "  plt.xlim([0, None])\n",
        "  plt.ylim([0, None])\n",
        "  plt.xlabel('Epochs')\n",
        "  plt.ylabel('Cross Entropy Loss')\n",
        "  plt.show()"
      ]
    },
    {
      "cell_type": "code",
      "execution_count": 24,
      "metadata": {
        "id": "AP-idbHF9B_P"
      },
      "outputs": [],
      "source": [
        "def eval(net, dataset, batch_size):\n",
        "    net.eval()\n",
        "    dataloader = DataLoader(dataset, batch_size=batch_size)\n",
        "    correct = 0\n",
        "    n = 0\n",
        "    for x, y in dataloader:\n",
        "        with torch.no_grad():\n",
        "            b_size = len(x)\n",
        "            out = net(x)\n",
        "            pred = out.data.max(1, keepdim=False)[1]\n",
        "            correct += torch.eq(pred, y.squeeze(1)).sum()\n",
        "            n += b_size\n",
        "    return (correct / n).item()\n",
        "\n",
        "\n",
        "def train(net, loss_fn, train_dataset, test_dataset, batch_size, train_loss, accuracies, val_accs,\n",
        "          n_epochs=50, learning_rate=1e-4):\n",
        "  \"\"\"Run gradient descent to optimize parameters of a given network\n",
        "\n",
        "  Args:\n",
        "    net (nn.Module): PyTorch network whose parameters to optimize\n",
        "    loss_fn: built-in PyTorch loss function to minimize\n",
        "    train_data (torch.Tensor): n_train x n_neurons tensor with neural\n",
        "      responses to train on\n",
        "    train_labels (torch.Tensor): n_train x 1 tensor with orientations of the\n",
        "      stimuli corresponding to each row of train_data\n",
        "    n_epochs (int, optional): number of epochs of gradient descent to run\n",
        "    learning_rate (float, optional): learning rate to use for gradient descent\n",
        "\n",
        "  Returns:\n",
        "    (list): training loss over iterations\n",
        "\n",
        "  \"\"\"\n",
        "\n",
        "  # Initialize PyTorch SGD optimizer\n",
        "  optimizer = optim.AdamW(net.parameters(), lr=learning_rate, weight_decay=.2)\n",
        "  n_trials = len(train_dataset)\n",
        "\n",
        "  # Loop over epochs\n",
        "  for epoch in range(n_epochs):\n",
        "      net.train()\n",
        "      epoch_correct = 0\n",
        "      dataloader = DataLoader(train_dataset, batch_size=batch_size, shuffle=True)\n",
        "      epoch_losses = torch.zeros(len(dataloader))\n",
        "\n",
        "      for batch_idx, (x, y) in enumerate(dataloader):\n",
        "          # compute network output from inputs in train_data\n",
        "          out = net(x) # compute network output from inputs in train_data\n",
        "\n",
        "          # evaluate loss function\n",
        "          # print(f\"out.dtype: {out.dtype} - y.dtype: {y.dtype} - y: {y.squeeze(1)}\")\n",
        "          loss = loss_fn(out, y.squeeze(1))\n",
        "\n",
        "          # Clear previous gradients\n",
        "          optimizer.zero_grad()\n",
        "\n",
        "          # Compute gradients\n",
        "          loss.backward()\n",
        "\n",
        "          # Update weights\n",
        "          # optimizer = optim.SGD(net.parameters(), lr=.001)\n",
        "          optimizer.step()\n",
        "\n",
        "          # Store current value of loss\n",
        "          epoch_losses[batch_idx] = loss.item()  # .item() needed to transform the tensor output of loss_fn to a scalar\n",
        "\n",
        "          # Accuracy\n",
        "          pred = out.data.max(1, keepdim=True)[1]\n",
        "          batch_correct = torch.eq(pred.squeeze(1), y.squeeze(1)).sum()\n",
        "          epoch_correct += batch_correct\n",
        "\n",
        "      accuracies.append((100 * epoch_correct / n_trials).item())\n",
        "      train_loss.append((epoch_losses.mean()))\n",
        "      val_accs.append(100 * eval(net, test_dataset, batch_size))\n",
        "\n",
        "      # Track progress\n",
        "      if (epoch + 1) % 25 == 0:\n",
        "        print(f'iteration {epoch + 1}/{n_epochs} | loss: {loss.item():.5f} | acc: {accuracies[-1]:.3f} | val_acc: {val_accs[-1]:.3f}')\n",
        "\n",
        "  return train_loss, accuracies, val_accs"
      ]
    },
    {
      "cell_type": "code",
      "execution_count": 25,
      "metadata": {
        "colab": {
          "base_uri": "https://localhost:8080/"
        },
        "id": "CBRuM3LvO-_1",
        "outputId": "7dffee1d-2aeb-4f6f-afc7-bbdac6ca2952"
      },
      "outputs": [
        {
          "name": "stdout",
          "output_type": "stream",
          "text": [
            "Building network with 268 inputs and 9 outputs\n"
          ]
        }
      ],
      "source": [
        "# Set random seeds for reproducibility\n",
        "np.random.seed(1)\n",
        "torch.manual_seed(1)\n",
        "\n",
        "BATCH_SIZE = 256\n",
        "\n",
        "n_trials, n_neurons = X.shape\n",
        "\n",
        "# Placeholder to save the loss at each iteration\n",
        "train_loss = []\n",
        "accuracies = []\n",
        "val_accs = []\n",
        "\n",
        "# Initialize network with 10 hidden units\n",
        "net = DeepNetReLU(n_neurons, len(y.unique()), [64,32]).to(device)\n",
        "print(f\"Building network with {n_neurons} inputs and {len(y.unique())} outputs\")\n",
        "\n",
        "# Initialize built-in PyTorch MSE loss function\n",
        "loss_fn = nn.CrossEntropyLoss()\n",
        "\n",
        "# Return as torch.Tensor\n",
        "# Train\n",
        "X_train_nn = torch.tensor(X_train.values, dtype=torch.float32).to(device)\n",
        "y_train_nn = torch.tensor(y_train.values, dtype=torch.uint8).reshape(-1, 1).to(device)  # add singleton dimension to make a column vector\n",
        "train_dataset = TensorDataset(X_train_nn, y_train_nn)\n",
        "# Test\n",
        "X_test_nn = torch.tensor(X_test.values, dtype=torch.float32).to(device)\n",
        "y_test_nn = torch.tensor(y_test.values, dtype=torch.uint8).reshape(-1, 1).to(device)  # add singleton dimension to make a column vector\n",
        "test_dataset = TensorDataset(X_test_nn, y_test_nn)\n",
        "test_dataloader = DataLoader(test_dataset, batch_size=BATCH_SIZE)"
      ]
    },
    {
      "cell_type": "code",
      "execution_count": 26,
      "metadata": {
        "colab": {
          "base_uri": "https://localhost:8080/",
          "height": 1000
        },
        "id": "JmRIRojpHdWy",
        "outputId": "9e342c90-3953-404e-9b81-926e36409167"
      },
      "outputs": [
        {
          "name": "stdout",
          "output_type": "stream",
          "text": [
            "iteration 25/1000 | loss: 2.00925 | acc: 37.746 | val_acc: 41.222\n",
            "iteration 50/1000 | loss: 1.33302 | acc: 58.268 | val_acc: 66.450\n",
            "iteration 75/1000 | loss: 1.41508 | acc: 65.407 | val_acc: 72.770\n",
            "iteration 100/1000 | loss: 1.16729 | acc: 70.232 | val_acc: 74.928\n",
            "iteration 125/1000 | loss: 1.08718 | acc: 73.724 | val_acc: 76.359\n",
            "iteration 150/1000 | loss: 0.87613 | acc: 75.284 | val_acc: 77.451\n",
            "iteration 175/1000 | loss: 1.15754 | acc: 76.910 | val_acc: 78.492\n",
            "iteration 200/1000 | loss: 0.49972 | acc: 78.503 | val_acc: 79.298\n",
            "iteration 225/1000 | loss: 0.85076 | acc: 79.043 | val_acc: 79.974\n",
            "iteration 250/1000 | loss: 0.23262 | acc: 79.693 | val_acc: 80.546\n",
            "iteration 275/1000 | loss: 1.10420 | acc: 80.512 | val_acc: 81.248\n",
            "iteration 300/1000 | loss: 0.90246 | acc: 80.896 | val_acc: 81.612\n",
            "iteration 325/1000 | loss: 0.49742 | acc: 81.845 | val_acc: 82.315\n",
            "iteration 350/1000 | loss: 0.34116 | acc: 82.157 | val_acc: 82.965\n",
            "iteration 375/1000 | loss: 0.39390 | acc: 82.840 | val_acc: 83.485\n",
            "iteration 400/1000 | loss: 0.48989 | acc: 83.172 | val_acc: 83.797\n",
            "iteration 425/1000 | loss: 0.44198 | acc: 83.783 | val_acc: 84.213\n",
            "iteration 450/1000 | loss: 0.75791 | acc: 83.751 | val_acc: 84.759\n",
            "iteration 475/1000 | loss: 0.74961 | acc: 84.037 | val_acc: 85.072\n",
            "iteration 500/1000 | loss: 0.15316 | acc: 84.693 | val_acc: 85.384\n",
            "iteration 525/1000 | loss: 0.85860 | acc: 84.492 | val_acc: 85.592\n",
            "iteration 550/1000 | loss: 0.53022 | acc: 85.162 | val_acc: 85.748\n",
            "iteration 575/1000 | loss: 0.27828 | acc: 85.409 | val_acc: 85.982\n",
            "iteration 600/1000 | loss: 0.35753 | acc: 85.539 | val_acc: 86.164\n",
            "iteration 625/1000 | loss: 0.21076 | acc: 85.896 | val_acc: 86.294\n",
            "iteration 650/1000 | loss: 0.34886 | acc: 86.085 | val_acc: 86.424\n",
            "iteration 675/1000 | loss: 0.54312 | acc: 86.026 | val_acc: 86.580\n",
            "iteration 700/1000 | loss: 0.57961 | acc: 86.234 | val_acc: 86.710\n",
            "iteration 725/1000 | loss: 0.35517 | acc: 86.254 | val_acc: 86.840\n",
            "iteration 750/1000 | loss: 0.27951 | acc: 86.878 | val_acc: 86.996\n",
            "iteration 775/1000 | loss: 0.84040 | acc: 86.820 | val_acc: 87.282\n",
            "iteration 800/1000 | loss: 0.41106 | acc: 86.794 | val_acc: 87.334\n",
            "iteration 825/1000 | loss: 0.32098 | acc: 87.125 | val_acc: 87.568\n",
            "iteration 850/1000 | loss: 0.17114 | acc: 87.099 | val_acc: 87.854\n",
            "iteration 875/1000 | loss: 0.17572 | acc: 87.483 | val_acc: 88.036\n",
            "iteration 900/1000 | loss: 0.55942 | acc: 87.398 | val_acc: 88.192\n",
            "iteration 925/1000 | loss: 0.38308 | acc: 87.424 | val_acc: 88.349\n",
            "iteration 950/1000 | loss: 0.08997 | acc: 87.691 | val_acc: 88.531\n",
            "iteration 975/1000 | loss: 0.23903 | acc: 87.886 | val_acc: 88.843\n",
            "iteration 1000/1000 | loss: 0.23058 | acc: 87.951 | val_acc: 89.051\n"
          ]
        },
        {
          "data": {
            "image/png": "[encoded data removed]",
            "text/plain": [
              "<Figure size 640x480 with 1 Axes>"
            ]
          },
          "metadata": {},
          "output_type": "display_data"
        }
      ],
      "source": [
        "# Run gradient descent on data\n",
        "# train_loss, correct = train(net, loss_fn, X_train_nn, y_train_nn, train_loss, n_epochs=10000, learning_rate=3e-1)\n",
        "train_loss, accuracies, val_accs = train(net, loss_fn, train_dataset, test_dataset, BATCH_SIZE, train_loss, accuracies, val_accs, n_epochs=1000, learning_rate=3e-5)\n",
        "\n",
        "# Plot the training loss over iterations of GD\n",
        "plot_train_loss(train_loss)"
      ]
    },
    {
      "cell_type": "code",
      "execution_count": 27,
      "metadata": {
        "colab": {
          "base_uri": "https://localhost:8080/",
          "height": 449
        },
        "id": "iSg4VzZD8E5T",
        "outputId": "bc3b0898-95f5-4138-9601-24328fb099fd"
      },
      "outputs": [
        {
          "data": {
            "image/png": "[encoded data removed]",
            "text/plain": [
              "<Figure size 640x480 with 1 Axes>"
            ]
          },
          "metadata": {},
          "output_type": "display_data"
        }
      ],
      "source": [
        "# Plot\n",
        "fig = plt.figure(dpi=100)\n",
        "plt.plot(accuracies, label=\"train_acc\")\n",
        "plt.plot(val_accs, label=\"val_acc\")\n",
        "plt.xlabel(\"Epochs\")\n",
        "plt.ylabel(\"Accuracy\")\n",
        "plt.legend()\n",
        "# plt.savefig('neuralNetwork_inhibitory.png')\n",
        "plt.show()"
      ]
    },
    {
      "cell_type": "markdown",
      "metadata": {
        "id": "Xayq-tvUS_E4"
      },
      "source": [
        "We couldn't load enough data because some data was corrupted and we didn't have enough RAM in google colab (-> lesson learned to run locally in the future), which is why we are overfitting."
      ]
    },
    {
      "cell_type": "markdown",
      "metadata": {
        "id": "UAemyRQUTQVy"
      },
      "source": [
        "# Other decoders\n",
        "\n",
        "This wasn't part of the final project, however to implement a few things of what we learned, here are the implementations of a few other decoders."
      ]
    },
    {
      "cell_type": "markdown",
      "metadata": {
        "id": "qJ3Ywa7wUCGN"
      },
      "source": [
        "Split our data into train and test sets."
      ]
    },
    {
      "cell_type": "code",
      "execution_count": 28,
      "metadata": {
        "id": "7KwKuw48T_JR"
      },
      "outputs": [],
      "source": [
        "X_train, X_test, y_train, y_test = train_test_split(X, y, test_size=0.2, random_state=42)"
      ]
    },
    {
      "cell_type": "markdown",
      "metadata": {
        "id": "vTfWNYFUT1Qo"
      },
      "source": [
        "## Support vector machine (SVM)"
      ]
    },
    {
      "cell_type": "code",
      "execution_count": 29,
      "metadata": {
        "colab": {
          "base_uri": "https://localhost:8080/"
        },
        "id": "V22KZ-AoTI5l",
        "outputId": "4ff7a908-a73c-4a98-dde5-fc1b7bbfab04"
      },
      "outputs": [
        {
          "name": "stdout",
          "output_type": "stream",
          "text": [
            "SVM test accuracy: 0.8153446033810143\n",
            "SVM training accuracy: 0.8471942258924507\n"
          ]
        }
      ],
      "source": [
        "# Define the model\n",
        "model_svm = svm.SVC(probability=True)\n",
        "model_svm.fit(X_train, y_train)\n",
        "\n",
        "# Fit model to data\n",
        "model_svm.fit(X_train, y_train)\n",
        "\n",
        "# Classify\n",
        "y_pred_svm_test = model_svm.predict(X_test)\n",
        "\n",
        "# Evaluate test accuracy\n",
        "acc_svm_test = accuracy_score(y_test, y_pred_svm_test)\n",
        "print('SVM test accuracy: {}'.format(acc_svm_test))\n",
        "\n",
        "# Evaluate train accuracy -> check for overfitting\n",
        "y_pred_svm_train = model_svm.predict(X_train)\n",
        "acc_svm_train = accuracy_score(y_train, y_pred_svm_train)\n",
        "print('SVM training accuracy: {}'.format(acc_svm_train))"
      ]
    },
    {
      "cell_type": "markdown",
      "metadata": {},
      "source": [
        "-> SVM test accuracy: 0.8153446033810143\n",
        "\n",
        "-> SVM training accuracy: 0.8471942258924507"
      ]
    },
    {
      "cell_type": "markdown",
      "metadata": {
        "id": "5SBs_nbMUu_z"
      },
      "source": [
        "Evaluate the confusion matrix"
      ]
    },
    {
      "cell_type": "code",
      "execution_count": 30,
      "metadata": {
        "colab": {
          "base_uri": "https://localhost:8080/",
          "height": 332
        },
        "id": "uepacnQ5UvXy",
        "outputId": "fa5d432f-4001-4431-a5f6-20f53e94c12f"
      },
      "outputs": [
        {
          "data": {
            "text/html": [
              "\n",
              "\n",
              "  <div id=\"df-d887304f-78cf-4ad5-b3df-3ddcc8bf6bd4\">\n",
              "    <div class=\"colab-df-container\">\n",
              "      <div>\n",
              "<style scoped>\n",
              "    .dataframe tbody tr th:only-of-type {\n",
              "        vertical-align: middle;\n",
              "    }\n",
              "\n",
              "    .dataframe tbody tr th {\n",
              "        vertical-align: top;\n",
              "    }\n",
              "\n",
              "    .dataframe thead th {\n",
              "        text-align: right;\n",
              "    }\n",
              "</style>\n",
              "<table border=\"1\" class=\"dataframe\">\n",
              "  <thead>\n",
              "    <tr style=\"text-align: right;\">\n",
              "      <th></th>\n",
              "      <th>predicted_0</th>\n",
              "      <th>predicted_1</th>\n",
              "      <th>predicted_2</th>\n",
              "      <th>predicted_3</th>\n",
              "      <th>predicted_4</th>\n",
              "      <th>predicted_5</th>\n",
              "      <th>predicted_6</th>\n",
              "      <th>predicted_7</th>\n",
              "      <th>predicted_8</th>\n",
              "    </tr>\n",
              "  </thead>\n",
              "  <tbody>\n",
              "    <tr>\n",
              "      <th>actual_0</th>\n",
              "      <td>499</td>\n",
              "      <td>0</td>\n",
              "      <td>3</td>\n",
              "      <td>0</td>\n",
              "      <td>16</td>\n",
              "      <td>47</td>\n",
              "      <td>3</td>\n",
              "      <td>1</td>\n",
              "      <td>1</td>\n",
              "    </tr>\n",
              "    <tr>\n",
              "      <th>actual_1</th>\n",
              "      <td>20</td>\n",
              "      <td>407</td>\n",
              "      <td>0</td>\n",
              "      <td>2</td>\n",
              "      <td>4</td>\n",
              "      <td>44</td>\n",
              "      <td>2</td>\n",
              "      <td>0</td>\n",
              "      <td>2</td>\n",
              "    </tr>\n",
              "    <tr>\n",
              "      <th>actual_2</th>\n",
              "      <td>36</td>\n",
              "      <td>1</td>\n",
              "      <td>273</td>\n",
              "      <td>0</td>\n",
              "      <td>0</td>\n",
              "      <td>29</td>\n",
              "      <td>0</td>\n",
              "      <td>18</td>\n",
              "      <td>1</td>\n",
              "    </tr>\n",
              "    <tr>\n",
              "      <th>actual_3</th>\n",
              "      <td>9</td>\n",
              "      <td>0</td>\n",
              "      <td>1</td>\n",
              "      <td>389</td>\n",
              "      <td>5</td>\n",
              "      <td>19</td>\n",
              "      <td>0</td>\n",
              "      <td>1</td>\n",
              "      <td>0</td>\n",
              "    </tr>\n",
              "    <tr>\n",
              "      <th>actual_4</th>\n",
              "      <td>70</td>\n",
              "      <td>0</td>\n",
              "      <td>0</td>\n",
              "      <td>0</td>\n",
              "      <td>311</td>\n",
              "      <td>96</td>\n",
              "      <td>0</td>\n",
              "      <td>3</td>\n",
              "      <td>3</td>\n",
              "    </tr>\n",
              "    <tr>\n",
              "      <th>actual_5</th>\n",
              "      <td>39</td>\n",
              "      <td>0</td>\n",
              "      <td>0</td>\n",
              "      <td>4</td>\n",
              "      <td>7</td>\n",
              "      <td>453</td>\n",
              "      <td>0</td>\n",
              "      <td>1</td>\n",
              "      <td>0</td>\n",
              "    </tr>\n",
              "    <tr>\n",
              "      <th>actual_6</th>\n",
              "      <td>40</td>\n",
              "      <td>0</td>\n",
              "      <td>1</td>\n",
              "      <td>5</td>\n",
              "      <td>1</td>\n",
              "      <td>39</td>\n",
              "      <td>383</td>\n",
              "      <td>0</td>\n",
              "      <td>2</td>\n",
              "    </tr>\n",
              "    <tr>\n",
              "      <th>actual_7</th>\n",
              "      <td>42</td>\n",
              "      <td>0</td>\n",
              "      <td>1</td>\n",
              "      <td>0</td>\n",
              "      <td>3</td>\n",
              "      <td>39</td>\n",
              "      <td>0</td>\n",
              "      <td>323</td>\n",
              "      <td>1</td>\n",
              "    </tr>\n",
              "    <tr>\n",
              "      <th>actual_8</th>\n",
              "      <td>28</td>\n",
              "      <td>0</td>\n",
              "      <td>0</td>\n",
              "      <td>2</td>\n",
              "      <td>5</td>\n",
              "      <td>8</td>\n",
              "      <td>5</td>\n",
              "      <td>0</td>\n",
              "      <td>97</td>\n",
              "    </tr>\n",
              "  </tbody>\n",
              "</table>\n",
              "</div>\n",
              "      <button class=\"colab-df-convert\" onclick=\"convertToInteractive('df-d887304f-78cf-4ad5-b3df-3ddcc8bf6bd4')\"\n",
              "              title=\"Convert this dataframe to an interactive table.\"\n",
              "              style=\"display:none;\">\n",
              "\n",
              "  <svg xmlns=\"http://www.w3.org/2000/svg\" height=\"24px\"viewBox=\"0 0 24 24\"\n",
              "       width=\"24px\">\n",
              "    <path d=\"M0 0h24v24H0V0z\" fill=\"none\"/>\n",
              "    <path d=\"M18.56 5.44l.94 2.06.94-2.06 2.06-.94-2.06-.94-.94-2.06-.94 2.06-2.06.94zm-11 1L8.5 8.5l.94-2.06 2.06-.94-2.06-.94L8.5 2.5l-.94 2.06-2.06.94zm10 10l.94 2.06.94-2.06 2.06-.94-2.06-.94-.94-2.06-.94 2.06-2.06.94z\"/><path d=\"M17.41 7.96l-1.37-1.37c-.4-.4-.92-.59-1.43-.59-.52 0-1.04.2-1.43.59L10.3 9.45l-7.72 7.72c-.78.78-.78 2.05 0 2.83L4 21.41c.39.39.9.59 1.41.59.51 0 1.02-.2 1.41-.59l7.78-7.78 2.81-2.81c.8-.78.8-2.07 0-2.86zM5.41 20L4 18.59l7.72-7.72 1.47 1.35L5.41 20z\"/>\n",
              "  </svg>\n",
              "      </button>\n",
              "\n",
              "\n",
              "\n",
              "    <div id=\"df-7cfcfabf-f762-48a3-ab73-6180fcdb3277\">\n",
              "      <button class=\"colab-df-quickchart\" onclick=\"quickchart('df-7cfcfabf-f762-48a3-ab73-6180fcdb3277')\"\n",
              "              title=\"Suggest charts.\"\n",
              "              style=\"display:none;\">\n",
              "\n",
              "<svg xmlns=\"http://www.w3.org/2000/svg\" height=\"24px\"viewBox=\"0 0 24 24\"\n",
              "     width=\"24px\">\n",
              "    <g>\n",
              "        <path d=\"M19 3H5c-1.1 0-2 .9-2 2v14c0 1.1.9 2 2 2h14c1.1 0 2-.9 2-2V5c0-1.1-.9-2-2-2zM9 17H7v-7h2v7zm4 0h-2V7h2v10zm4 0h-2v-4h2v4z\"/>\n",
              "    </g>\n",
              "</svg>\n",
              "      </button>\n",
              "    </div>\n",
              "\n",
              "<style>\n",
              "  .colab-df-quickchart {\n",
              "    background-color: #E8F0FE;\n",
              "    border: none;\n",
              "    border-radius: 50%;\n",
              "    cursor: pointer;\n",
              "    display: none;\n",
              "    fill: #1967D2;\n",
              "    height: 32px;\n",
              "    padding: 0 0 0 0;\n",
              "    width: 32px;\n",
              "  }\n",
              "\n",
              "  .colab-df-quickchart:hover {\n",
              "    background-color: #E2EBFA;\n",
              "    box-shadow: 0px 1px 2px rgba(60, 64, 67, 0.3), 0px 1px 3px 1px rgba(60, 64, 67, 0.15);\n",
              "    fill: #174EA6;\n",
              "  }\n",
              "\n",
              "  [theme=dark] .colab-df-quickchart {\n",
              "    background-color: #3B4455;\n",
              "    fill: #D2E3FC;\n",
              "  }\n",
              "\n",
              "  [theme=dark] .colab-df-quickchart:hover {\n",
              "    background-color: #434B5C;\n",
              "    box-shadow: 0px 1px 3px 1px rgba(0, 0, 0, 0.15);\n",
              "    filter: drop-shadow(0px 1px 2px rgba(0, 0, 0, 0.3));\n",
              "    fill: #FFFFFF;\n",
              "  }\n",
              "</style>\n",
              "\n",
              "    <script>\n",
              "      async function quickchart(key) {\n",
              "        const containerElement = document.querySelector('#' + key);\n",
              "        const charts = await google.colab.kernel.invokeFunction(\n",
              "            'suggestCharts', [key], {});\n",
              "      }\n",
              "    </script>\n",
              "\n",
              "      <script>\n",
              "\n",
              "function displayQuickchartButton(domScope) {\n",
              "  let quickchartButtonEl =\n",
              "    domScope.querySelector('#df-7cfcfabf-f762-48a3-ab73-6180fcdb3277 button.colab-df-quickchart');\n",
              "  quickchartButtonEl.style.display =\n",
              "    google.colab.kernel.accessAllowed ? 'block' : 'none';\n",
              "}\n",
              "\n",
              "        displayQuickchartButton(document);\n",
              "      </script>\n",
              "      <style>\n",
              "    .colab-df-container {\n",
              "      display:flex;\n",
              "      flex-wrap:wrap;\n",
              "      gap: 12px;\n",
              "    }\n",
              "\n",
              "    .colab-df-convert {\n",
              "      background-color: #E8F0FE;\n",
              "      border: none;\n",
              "      border-radius: 50%;\n",
              "      cursor: pointer;\n",
              "      display: none;\n",
              "      fill: #1967D2;\n",
              "      height: 32px;\n",
              "      padding: 0 0 0 0;\n",
              "      width: 32px;\n",
              "    }\n",
              "\n",
              "    .colab-df-convert:hover {\n",
              "      background-color: #E2EBFA;\n",
              "      box-shadow: 0px 1px 2px rgba(60, 64, 67, 0.3), 0px 1px 3px 1px rgba(60, 64, 67, 0.15);\n",
              "      fill: #174EA6;\n",
              "    }\n",
              "\n",
              "    [theme=dark] .colab-df-convert {\n",
              "      background-color: #3B4455;\n",
              "      fill: #D2E3FC;\n",
              "    }\n",
              "\n",
              "    [theme=dark] .colab-df-convert:hover {\n",
              "      background-color: #434B5C;\n",
              "      box-shadow: 0px 1px 3px 1px rgba(0, 0, 0, 0.15);\n",
              "      filter: drop-shadow(0px 1px 2px rgba(0, 0, 0, 0.3));\n",
              "      fill: #FFFFFF;\n",
              "    }\n",
              "  </style>\n",
              "\n",
              "      <script>\n",
              "        const buttonEl =\n",
              "          document.querySelector('#df-d887304f-78cf-4ad5-b3df-3ddcc8bf6bd4 button.colab-df-convert');\n",
              "        buttonEl.style.display =\n",
              "          google.colab.kernel.accessAllowed ? 'block' : 'none';\n",
              "\n",
              "        async function convertToInteractive(key) {\n",
              "          const element = document.querySelector('#df-d887304f-78cf-4ad5-b3df-3ddcc8bf6bd4');\n",
              "          const dataTable =\n",
              "            await google.colab.kernel.invokeFunction('convertToInteractive',\n",
              "                                                     [key], {});\n",
              "          if (!dataTable) return;\n",
              "\n",
              "          const docLinkHtml = 'Like what you see? Visit the ' +\n",
              "            '<a target=\"_blank\" href=https://colab.research.google.com/notebooks/data_table.ipynb>data table notebook</a>'\n",
              "            + ' to learn more about interactive tables.';\n",
              "          element.innerHTML = '';\n",
              "          dataTable['output_type'] = 'display_data';\n",
              "          await google.colab.output.renderOutput(dataTable, element);\n",
              "          const docLink = document.createElement('div');\n",
              "          docLink.innerHTML = docLinkHtml;\n",
              "          element.appendChild(docLink);\n",
              "        }\n",
              "      </script>\n",
              "    </div>\n",
              "  </div>\n"
            ],
            "text/plain": [
              "          predicted_0  predicted_1  predicted_2  predicted_3  predicted_4  \\\n",
              "actual_0          499            0            3            0           16   \n",
              "actual_1           20          407            0            2            4   \n",
              "actual_2           36            1          273            0            0   \n",
              "actual_3            9            0            1          389            5   \n",
              "actual_4           70            0            0            0          311   \n",
              "actual_5           39            0            0            4            7   \n",
              "actual_6           40            0            1            5            1   \n",
              "actual_7           42            0            1            0            3   \n",
              "actual_8           28            0            0            2            5   \n",
              "\n",
              "          predicted_5  predicted_6  predicted_7  predicted_8  \n",
              "actual_0           47            3            1            1  \n",
              "actual_1           44            2            0            2  \n",
              "actual_2           29            0           18            1  \n",
              "actual_3           19            0            1            0  \n",
              "actual_4           96            0            3            3  \n",
              "actual_5          453            0            1            0  \n",
              "actual_6           39          383            0            2  \n",
              "actual_7           39            0          323            1  \n",
              "actual_8            8            5            0           97  "
            ]
          },
          "execution_count": 30,
          "metadata": {},
          "output_type": "execute_result"
        }
      ],
      "source": [
        "pd.DataFrame(\n",
        "    confusion_matrix(y_test, y_pred_svm_test),\n",
        "    columns=['predicted_{}'.format(im) for im in model_svm.classes_],\n",
        "    index=['actual_{}'.format(im) for im in model_svm.classes_]\n",
        ")"
      ]
    },
    {
      "cell_type": "markdown",
      "metadata": {
        "id": "99tT5VbFUxXB"
      },
      "source": [
        "This tells us that the model can decode some stimuli well (im035, im075 and im106, for example), while it struggles more with others (im000 and omissions, for example)."
      ]
    },
    {
      "cell_type": "markdown",
      "metadata": {
        "id": "q4fEa5ywU1Lw"
      },
      "source": [
        "## Logistic Regression"
      ]
    },
    {
      "cell_type": "code",
      "execution_count": 31,
      "metadata": {
        "colab": {
          "base_uri": "https://localhost:8080/"
        },
        "id": "ICBcw78qU1kX",
        "outputId": "58ba47c6-967c-4b68-d680-9e1d0b0113c6"
      },
      "outputs": [
        {
          "name": "stdout",
          "output_type": "stream",
          "text": [
            "Logistic regression test accuracy: 0.8850455136540962\n",
            "Logistic regression training accuracy: 0.921581377202679\n"
          ]
        },
        {
          "name": "stderr",
          "output_type": "stream",
          "text": [
            "/usr/local/lib/python3.10/dist-packages/sklearn/linear_model/_logistic.py:458: ConvergenceWarning: lbfgs failed to converge (status=1):\n",
            "STOP: TOTAL NO. of ITERATIONS REACHED LIMIT.\n",
            "\n",
            "Increase the number of iterations (max_iter) or scale the data as shown in:\n",
            "    https://scikit-learn.org/stable/modules/preprocessing.html\n",
            "Please also refer to the documentation for alternative solver options:\n",
            "    https://scikit-learn.org/stable/modules/linear_model.html#logistic-regression\n",
            "  n_iter_i = _check_optimize_result(\n"
          ]
        }
      ],
      "source": [
        "from sklearn.linear_model import LogisticRegression\n",
        "\n",
        "# Define the model\n",
        "log_reg = LogisticRegression(penalty=None, max_iter=5000)\n",
        "\n",
        "# Fit model to data\n",
        "log_reg.fit(X_train, y_train)\n",
        "\n",
        "# Classify\n",
        "y_pred_logreg_test = log_reg.predict(X_test)\n",
        "\n",
        "# Evaluate test accuracy\n",
        "acc_logreg_test = accuracy_score(y_test, y_pred_logreg_test)\n",
        "print('Logistic regression test accuracy: {}'.format(acc_logreg_test))\n",
        "\n",
        "# Evaluate train accuracy -> check for overfitting\n",
        "y_pred_logreg_train = log_reg.predict(X_train)\n",
        "acc_logreg_train = accuracy_score(y_train, y_pred_logreg_train)\n",
        "print('Logistic regression training accuracy: {}'.format(acc_logreg_train))"
      ]
    },
    {
      "cell_type": "markdown",
      "metadata": {},
      "source": [
        "-> Logistic regression test accuracy: 0.8850455136540962\n",
        "\n",
        "-> Logistic regression training accuracy: 0.921581377202679"
      ]
    },
    {
      "cell_type": "markdown",
      "metadata": {
        "id": "CWyjU_isU5Lq"
      },
      "source": [
        "## L2-regularized Logistic Regression"
      ]
    },
    {
      "cell_type": "code",
      "execution_count": 32,
      "metadata": {
        "colab": {
          "base_uri": "https://localhost:8080/"
        },
        "id": "K0VuMaTFU606",
        "outputId": "ad70c92b-73f5-4f27-d409-f02846f92543"
      },
      "outputs": [
        {
          "name": "stdout",
          "output_type": "stream",
          "text": [
            "Logistic regression test accuracy: 0.8507152145643693\n",
            "Logistic regression training accuracy: 0.8765849535080305\n"
          ]
        }
      ],
      "source": [
        "# Define the model\n",
        "l2_log_reg = LogisticRegression(penalty=\"l2\", C=1, max_iter=5000)\n",
        "\n",
        "# Fit model to data\n",
        "l2_log_reg.fit(X_train, y_train)\n",
        "\n",
        "# Classify\n",
        "y_pred_l2logreg_test = l2_log_reg.predict(X_test)\n",
        "\n",
        "# Evaluate test accuracy\n",
        "acc_l2logreg_test = accuracy_score(y_test, y_pred_l2logreg_test)\n",
        "print('Logistic regression test accuracy: {}'.format(acc_l2logreg_test))\n",
        "\n",
        "# Evaluate train accuracy -> check for overfitting\n",
        "y_pred_l2logreg_train = l2_log_reg.predict(X_train)\n",
        "acc_l2logreg_train = accuracy_score(y_train, y_pred_l2logreg_train)\n",
        "print('Logistic regression training accuracy: {}'.format(acc_l2logreg_train))"
      ]
    },
    {
      "cell_type": "markdown",
      "metadata": {},
      "source": [
        "-> Logistic regression test accuracy: 0.8507152145643693\n",
        "\n",
        "-> Logistic regression training accuracy: 0.8765849535080305"
      ]
    },
    {
      "cell_type": "markdown",
      "metadata": {
        "id": "1dlkPfhcU6cK"
      },
      "source": [
        "## Linear Discriminant Analysis (LDA)"
      ]
    },
    {
      "cell_type": "code",
      "execution_count": 33,
      "metadata": {
        "colab": {
          "base_uri": "https://localhost:8080/"
        },
        "id": "AXh-AOWDU9nH",
        "outputId": "f11dda62-e4b9-400c-edac-422c4b888f74"
      },
      "outputs": [
        {
          "name": "stdout",
          "output_type": "stream",
          "text": [
            "LDA test accuracy: 0.7890767230169051\n",
            "LDA training accuracy: 0.921581377202679\n"
          ]
        }
      ],
      "source": [
        "from sklearn.discriminant_analysis import LinearDiscriminantAnalysis as LDA\n",
        "\n",
        "# Define the model\n",
        "lda = LDA()\n",
        "\n",
        "# Fit model to data\n",
        "lda.fit(X_train, y_train)\n",
        "\n",
        "# Classify\n",
        "y_pred_lda_test = lda.predict(X_test)\n",
        "\n",
        "# Evaluate test accuracy\n",
        "acc_lda_test = accuracy_score(y_test, y_pred_lda_test)\n",
        "print('LDA test accuracy: {}'.format(acc_lda_test))\n",
        "\n",
        "# Evaluate train accuracy -> check for overfitting\n",
        "y_pred_lda_train = log_reg.predict(X_train)\n",
        "acc_lda_train = accuracy_score(y_train, y_pred_lda_train)\n",
        "print('LDA training accuracy: {}'.format(acc_lda_train))"
      ]
    },
    {
      "cell_type": "markdown",
      "metadata": {},
      "source": [
        "-> LDA test accuracy: 0.7890767230169051\n",
        "\n",
        "-> LDA training accuracy: 0.921581377202679"
      ]
    },
    {
      "cell_type": "markdown",
      "metadata": {
        "id": "jGog3NJTU9yD"
      },
      "source": [
        "# Cross-validation"
      ]
    },
    {
      "cell_type": "code",
      "execution_count": 34,
      "metadata": {
        "id": "-kZ9NxaCU-GL"
      },
      "outputs": [],
      "source": [
        "from sklearn.model_selection import cross_val_score"
      ]
    },
    {
      "cell_type": "code",
      "execution_count": 35,
      "metadata": {
        "colab": {
          "base_uri": "https://localhost:8080/",
          "height": 333
        },
        "id": "800fpXbDVDpJ",
        "outputId": "1da18364-ebab-43e0-e098-af099e52fb9c"
      },
      "outputs": [
        {
          "data": {
            "image/png": "[encoded data removed]",
            "text/plain": [
              "<Figure size 800x300 with 1 Axes>"
            ]
          },
          "metadata": {},
          "output_type": "display_data"
        }
      ],
      "source": [
        "# SVM\n",
        "accuracies_svm = cross_val_score(svm.SVC(probability=True), X, y, cv=10)  # k=10 cross validation\n",
        "\n",
        "# Plot accuracy scores\n",
        "f, ax = plt.subplots(figsize=(8, 3))\n",
        "ax.boxplot(accuracies_svm, vert=False, widths=.7)\n",
        "ax.scatter(accuracies_svm, np.ones(10))\n",
        "ax.set(\n",
        "  xlabel=\"Accuracy\",\n",
        "  yticks=[],\n",
        "  title=f\"Average test accuracy: {accuracies_svm.mean():.2%}\"\n",
        ")\n",
        "ax.spines[\"left\"].set_visible(False)\n",
        "plt.show()"
      ]
    },
    {
      "cell_type": "code",
      "execution_count": 36,
      "metadata": {
        "colab": {
          "base_uri": "https://localhost:8080/",
          "height": 1000
        },
        "id": "AXZGRxutU-vX",
        "outputId": "57eb2af3-ca18-4dfb-e716-7b6a65429b71"
      },
      "outputs": [
        {
          "name": "stderr",
          "output_type": "stream",
          "text": [
            "/usr/local/lib/python3.10/dist-packages/sklearn/linear_model/_logistic.py:458: ConvergenceWarning: lbfgs failed to converge (status=1):\n",
            "STOP: TOTAL NO. of ITERATIONS REACHED LIMIT.\n",
            "\n",
            "Increase the number of iterations (max_iter) or scale the data as shown in:\n",
            "    https://scikit-learn.org/stable/modules/preprocessing.html\n",
            "Please also refer to the documentation for alternative solver options:\n",
            "    https://scikit-learn.org/stable/modules/linear_model.html#logistic-regression\n",
            "  n_iter_i = _check_optimize_result(\n",
            "/usr/local/lib/python3.10/dist-packages/sklearn/linear_model/_logistic.py:458: ConvergenceWarning: lbfgs failed to converge (status=1):\n",
            "STOP: TOTAL NO. of ITERATIONS REACHED LIMIT.\n",
            "\n",
            "Increase the number of iterations (max_iter) or scale the data as shown in:\n",
            "    https://scikit-learn.org/stable/modules/preprocessing.html\n",
            "Please also refer to the documentation for alternative solver options:\n",
            "    https://scikit-learn.org/stable/modules/linear_model.html#logistic-regression\n",
            "  n_iter_i = _check_optimize_result(\n",
            "/usr/local/lib/python3.10/dist-packages/sklearn/linear_model/_logistic.py:458: ConvergenceWarning: lbfgs failed to converge (status=1):\n",
            "STOP: TOTAL NO. of ITERATIONS REACHED LIMIT.\n",
            "\n",
            "Increase the number of iterations (max_iter) or scale the data as shown in:\n",
            "    https://scikit-learn.org/stable/modules/preprocessing.html\n",
            "Please also refer to the documentation for alternative solver options:\n",
            "    https://scikit-learn.org/stable/modules/linear_model.html#logistic-regression\n",
            "  n_iter_i = _check_optimize_result(\n",
            "/usr/local/lib/python3.10/dist-packages/sklearn/linear_model/_logistic.py:458: ConvergenceWarning: lbfgs failed to converge (status=1):\n",
            "STOP: TOTAL NO. of ITERATIONS REACHED LIMIT.\n",
            "\n",
            "Increase the number of iterations (max_iter) or scale the data as shown in:\n",
            "    https://scikit-learn.org/stable/modules/preprocessing.html\n",
            "Please also refer to the documentation for alternative solver options:\n",
            "    https://scikit-learn.org/stable/modules/linear_model.html#logistic-regression\n",
            "  n_iter_i = _check_optimize_result(\n",
            "/usr/local/lib/python3.10/dist-packages/sklearn/linear_model/_logistic.py:458: ConvergenceWarning: lbfgs failed to converge (status=1):\n",
            "STOP: TOTAL NO. of ITERATIONS REACHED LIMIT.\n",
            "\n",
            "Increase the number of iterations (max_iter) or scale the data as shown in:\n",
            "    https://scikit-learn.org/stable/modules/preprocessing.html\n",
            "Please also refer to the documentation for alternative solver options:\n",
            "    https://scikit-learn.org/stable/modules/linear_model.html#logistic-regression\n",
            "  n_iter_i = _check_optimize_result(\n",
            "/usr/local/lib/python3.10/dist-packages/sklearn/linear_model/_logistic.py:458: ConvergenceWarning: lbfgs failed to converge (status=1):\n",
            "STOP: TOTAL NO. of ITERATIONS REACHED LIMIT.\n",
            "\n",
            "Increase the number of iterations (max_iter) or scale the data as shown in:\n",
            "    https://scikit-learn.org/stable/modules/preprocessing.html\n",
            "Please also refer to the documentation for alternative solver options:\n",
            "    https://scikit-learn.org/stable/modules/linear_model.html#logistic-regression\n",
            "  n_iter_i = _check_optimize_result(\n",
            "/usr/local/lib/python3.10/dist-packages/sklearn/linear_model/_logistic.py:458: ConvergenceWarning: lbfgs failed to converge (status=1):\n",
            "STOP: TOTAL NO. of ITERATIONS REACHED LIMIT.\n",
            "\n",
            "Increase the number of iterations (max_iter) or scale the data as shown in:\n",
            "    https://scikit-learn.org/stable/modules/preprocessing.html\n",
            "Please also refer to the documentation for alternative solver options:\n",
            "    https://scikit-learn.org/stable/modules/linear_model.html#logistic-regression\n",
            "  n_iter_i = _check_optimize_result(\n",
            "/usr/local/lib/python3.10/dist-packages/sklearn/linear_model/_logistic.py:458: ConvergenceWarning: lbfgs failed to converge (status=1):\n",
            "STOP: TOTAL NO. of ITERATIONS REACHED LIMIT.\n",
            "\n",
            "Increase the number of iterations (max_iter) or scale the data as shown in:\n",
            "    https://scikit-learn.org/stable/modules/preprocessing.html\n",
            "Please also refer to the documentation for alternative solver options:\n",
            "    https://scikit-learn.org/stable/modules/linear_model.html#logistic-regression\n",
            "  n_iter_i = _check_optimize_result(\n",
            "/usr/local/lib/python3.10/dist-packages/sklearn/linear_model/_logistic.py:458: ConvergenceWarning: lbfgs failed to converge (status=1):\n",
            "STOP: TOTAL NO. of ITERATIONS REACHED LIMIT.\n",
            "\n",
            "Increase the number of iterations (max_iter) or scale the data as shown in:\n",
            "    https://scikit-learn.org/stable/modules/preprocessing.html\n",
            "Please also refer to the documentation for alternative solver options:\n",
            "    https://scikit-learn.org/stable/modules/linear_model.html#logistic-regression\n",
            "  n_iter_i = _check_optimize_result(\n",
            "/usr/local/lib/python3.10/dist-packages/sklearn/linear_model/_logistic.py:458: ConvergenceWarning: lbfgs failed to converge (status=1):\n",
            "STOP: TOTAL NO. of ITERATIONS REACHED LIMIT.\n",
            "\n",
            "Increase the number of iterations (max_iter) or scale the data as shown in:\n",
            "    https://scikit-learn.org/stable/modules/preprocessing.html\n",
            "Please also refer to the documentation for alternative solver options:\n",
            "    https://scikit-learn.org/stable/modules/linear_model.html#logistic-regression\n",
            "  n_iter_i = _check_optimize_result(\n"
          ]
        },
        {
          "data": {
            "image/png": "[encoded data removed]",
            "text/plain": [
              "<Figure size 800x300 with 1 Axes>"
            ]
          },
          "metadata": {},
          "output_type": "display_data"
        }
      ],
      "source": [
        "# Logistic regression\n",
        "accuracies_logreg = cross_val_score(LogisticRegression(penalty=None), X, y, cv=10)  # k=10 cross validation\n",
        "\n",
        "# Plot accuracy scores\n",
        "f, ax = plt.subplots(figsize=(8, 3))\n",
        "ax.boxplot(accuracies_logreg, vert=False, widths=.7)\n",
        "ax.scatter(accuracies_logreg, np.ones(10))\n",
        "ax.set(\n",
        "  xlabel=\"Accuracy\",\n",
        "  yticks=[],\n",
        "  title=f\"Average test accuracy: {accuracies_logreg.mean():.2%}\"\n",
        ")\n",
        "ax.spines[\"left\"].set_visible(False)\n",
        "plt.show()"
      ]
    },
    {
      "cell_type": "code",
      "execution_count": 37,
      "metadata": {
        "colab": {
          "base_uri": "https://localhost:8080/",
          "height": 333
        },
        "id": "k3k2vPiaVIMI",
        "outputId": "12f36aa0-6d28-4a8b-925a-8c60ef5fd869"
      },
      "outputs": [
        {
          "data": {
            "image/png": "[encoded data removed]",
            "text/plain": [
              "<Figure size 800x300 with 1 Axes>"
            ]
          },
          "metadata": {},
          "output_type": "display_data"
        }
      ],
      "source": [
        "# L2-regularized logistic regression\n",
        "accuracies_logreg = cross_val_score(LogisticRegression(penalty=\"l2\", C=1, max_iter=5000), X, y, cv=10)  # k=10 cross validation\n",
        "\n",
        "# Plot accuracy scores\n",
        "f, ax = plt.subplots(figsize=(8, 3))\n",
        "ax.boxplot(accuracies_logreg, vert=False, widths=.7)\n",
        "ax.scatter(accuracies_logreg, np.ones(10))\n",
        "ax.set(\n",
        "  xlabel=\"Accuracy\",\n",
        "  yticks=[],\n",
        "  title=f\"Average test accuracy: {accuracies_logreg.mean():.2%}\"\n",
        ")\n",
        "ax.spines[\"left\"].set_visible(False)\n",
        "plt.show()"
      ]
    },
    {
      "cell_type": "code",
      "execution_count": 38,
      "metadata": {
        "colab": {
          "base_uri": "https://localhost:8080/",
          "height": 1000
        },
        "id": "7oIgFn7PVJVz",
        "outputId": "662b5014-8a8b-439e-8b0d-e9974808abe6"
      },
      "outputs": [
        {
          "name": "stderr",
          "output_type": "stream",
          "text": [
            "/usr/local/lib/python3.10/dist-packages/sklearn/linear_model/_logistic.py:458: ConvergenceWarning: lbfgs failed to converge (status=1):\n",
            "STOP: TOTAL NO. of ITERATIONS REACHED LIMIT.\n",
            "\n",
            "Increase the number of iterations (max_iter) or scale the data as shown in:\n",
            "    https://scikit-learn.org/stable/modules/preprocessing.html\n",
            "Please also refer to the documentation for alternative solver options:\n",
            "    https://scikit-learn.org/stable/modules/linear_model.html#logistic-regression\n",
            "  n_iter_i = _check_optimize_result(\n",
            "/usr/local/lib/python3.10/dist-packages/sklearn/linear_model/_logistic.py:458: ConvergenceWarning: lbfgs failed to converge (status=1):\n",
            "STOP: TOTAL NO. of ITERATIONS REACHED LIMIT.\n",
            "\n",
            "Increase the number of iterations (max_iter) or scale the data as shown in:\n",
            "    https://scikit-learn.org/stable/modules/preprocessing.html\n",
            "Please also refer to the documentation for alternative solver options:\n",
            "    https://scikit-learn.org/stable/modules/linear_model.html#logistic-regression\n",
            "  n_iter_i = _check_optimize_result(\n",
            "/usr/local/lib/python3.10/dist-packages/sklearn/linear_model/_logistic.py:458: ConvergenceWarning: lbfgs failed to converge (status=1):\n",
            "STOP: TOTAL NO. of ITERATIONS REACHED LIMIT.\n",
            "\n",
            "Increase the number of iterations (max_iter) or scale the data as shown in:\n",
            "    https://scikit-learn.org/stable/modules/preprocessing.html\n",
            "Please also refer to the documentation for alternative solver options:\n",
            "    https://scikit-learn.org/stable/modules/linear_model.html#logistic-regression\n",
            "  n_iter_i = _check_optimize_result(\n",
            "/usr/local/lib/python3.10/dist-packages/sklearn/linear_model/_logistic.py:458: ConvergenceWarning: lbfgs failed to converge (status=1):\n",
            "STOP: TOTAL NO. of ITERATIONS REACHED LIMIT.\n",
            "\n",
            "Increase the number of iterations (max_iter) or scale the data as shown in:\n",
            "    https://scikit-learn.org/stable/modules/preprocessing.html\n",
            "Please also refer to the documentation for alternative solver options:\n",
            "    https://scikit-learn.org/stable/modules/linear_model.html#logistic-regression\n",
            "  n_iter_i = _check_optimize_result(\n",
            "/usr/local/lib/python3.10/dist-packages/sklearn/linear_model/_logistic.py:458: ConvergenceWarning: lbfgs failed to converge (status=1):\n",
            "STOP: TOTAL NO. of ITERATIONS REACHED LIMIT.\n",
            "\n",
            "Increase the number of iterations (max_iter) or scale the data as shown in:\n",
            "    https://scikit-learn.org/stable/modules/preprocessing.html\n",
            "Please also refer to the documentation for alternative solver options:\n",
            "    https://scikit-learn.org/stable/modules/linear_model.html#logistic-regression\n",
            "  n_iter_i = _check_optimize_result(\n",
            "/usr/local/lib/python3.10/dist-packages/sklearn/linear_model/_logistic.py:458: ConvergenceWarning: lbfgs failed to converge (status=1):\n",
            "STOP: TOTAL NO. of ITERATIONS REACHED LIMIT.\n",
            "\n",
            "Increase the number of iterations (max_iter) or scale the data as shown in:\n",
            "    https://scikit-learn.org/stable/modules/preprocessing.html\n",
            "Please also refer to the documentation for alternative solver options:\n",
            "    https://scikit-learn.org/stable/modules/linear_model.html#logistic-regression\n",
            "  n_iter_i = _check_optimize_result(\n",
            "/usr/local/lib/python3.10/dist-packages/sklearn/linear_model/_logistic.py:458: ConvergenceWarning: lbfgs failed to converge (status=1):\n",
            "STOP: TOTAL NO. of ITERATIONS REACHED LIMIT.\n",
            "\n",
            "Increase the number of iterations (max_iter) or scale the data as shown in:\n",
            "    https://scikit-learn.org/stable/modules/preprocessing.html\n",
            "Please also refer to the documentation for alternative solver options:\n",
            "    https://scikit-learn.org/stable/modules/linear_model.html#logistic-regression\n",
            "  n_iter_i = _check_optimize_result(\n"
          ]
        },
        {
          "data": {
            "image/png": "[encoded data removed]",
            "text/plain": [
              "<Figure size 640x480 with 1 Axes>"
            ]
          },
          "metadata": {},
          "output_type": "display_data"
        }
      ],
      "source": [
        "# L2-regularized logistic regression with different hyperparameters (C)\n",
        "\n",
        "def plot_model_selection(C_values, accuracies):\n",
        "  \"\"\"Plot the accuracy curve over log-spaced C values.\"\"\"\n",
        "  ax = plt.figure().subplots()\n",
        "  ax.set_xscale(\"log\")\n",
        "  ax.plot(C_values, accuracies, marker=\"o\")\n",
        "  best_C = C_values[np.argmax(accuracies)]\n",
        "  ax.set(\n",
        "      xticks=C_values,\n",
        "      xlabel=\"$C$\",\n",
        "      ylabel=\"Cross-validated accuracy\",\n",
        "      title=f\"Best C: {best_C:1g} ({np.max(accuracies):.2%})\",\n",
        "  )\n",
        "  plt.show()\n",
        "\n",
        "def model_selection(X, y, C_values):\n",
        "  \"\"\"Compute CV accuracy for each C value.\n",
        "\n",
        "  Args:\n",
        "    X (2D array): Data matrix\n",
        "    y (1D array): Label vector\n",
        "    C_values (1D array): Array of hyperparameter values\n",
        "\n",
        "  Returns:\n",
        "    accuracies (1D array): CV accuracy with each value of C\n",
        "\n",
        "  \"\"\"\n",
        "\n",
        "  accuracies_l2reg = []\n",
        "  for C in C_values:\n",
        "\n",
        "    # Initialize and fit the model\n",
        "    model_l2 = LogisticRegression(penalty=\"l2\", C=C, max_iter=5000)\n",
        "    model_l2.fit(X, y)\n",
        "\n",
        "    # Get the accuracy for each test split using cross-validation\n",
        "    accs = cross_val_score(model_l2, X, y, cv=10)  # k=10 cross validation\n",
        "\n",
        "    # Store the average test accuracy for this value of C\n",
        "    accuracies_l2reg.append(accs.mean())\n",
        "\n",
        "  return accuracies_l2reg\n",
        "\n",
        "\n",
        "# Use log-spaced values for C\n",
        "C_values = np.logspace(-4, 4, 9)\n",
        "\n",
        "# Compute accuracies\n",
        "accuracies_l2reg = model_selection(X, y, C_values)\n",
        "\n",
        "# Visualize\n",
        "plot_model_selection(C_values, accuracies_l2reg)"
      ]
    },
    {
      "cell_type": "code",
      "execution_count": 39,
      "metadata": {
        "colab": {
          "base_uri": "https://localhost:8080/",
          "height": 333
        },
        "id": "eGXrsmhfVKrA",
        "outputId": "69fa3a67-cb3e-45fa-d25e-864266807bfb"
      },
      "outputs": [
        {
          "data": {
            "image/png": "[encoded data removed]",
            "text/plain": [
              "<Figure size 800x300 with 1 Axes>"
            ]
          },
          "metadata": {},
          "output_type": "display_data"
        }
      ],
      "source": [
        "# LDA\n",
        "accuracies_lda = cross_val_score(LDA(), X, y, cv=10)  # k=10 cross validation\n",
        "\n",
        "# Plot accuracy scores\n",
        "f, ax = plt.subplots(figsize=(8, 3))\n",
        "ax.boxplot(accuracies_lda, vert=False, widths=.7)\n",
        "ax.scatter(accuracies_lda, np.ones(10))\n",
        "ax.set(\n",
        "  xlabel=\"Accuracy\",\n",
        "  yticks=[],\n",
        "  title=f\"Average test accuracy: {accuracies_lda.mean():.2%}\"\n",
        ")\n",
        "ax.spines[\"left\"].set_visible(False)\n",
        "plt.show()"
      ]
    }
  ],
  "metadata": {
    "accelerator": "GPU",
    "colab": {
      "gpuType": "V100",
      "machine_shape": "hm",
      "provenance": []
    },
    "kernel": {
      "display_name": "Python 3",
      "language": "python",
      "name": "python3"
    },
    "kernelspec": {
      "display_name": "Python [conda env:nma-compneuro]",
      "language": "python",
      "name": "conda-env-nma-compneuro-py"
    },
    "language_info": {
      "codemirror_mode": {
        "name": "ipython",
        "version": 3
      },
      "file_extension": ".py",
      "mimetype": "text/x-python",
      "name": "python",
      "nbconvert_exporter": "python",
      "pygments_lexer": "ipython3",
      "version": "3.9.17"
    }
  },
  "nbformat": 4,
  "nbformat_minor": 0
}
